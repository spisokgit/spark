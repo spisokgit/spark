{
 "cells": [
  {
   "cell_type": "markdown",
   "metadata": {},
   "source": [
    "문제 1  10점  \n",
    "입력 데이터: 다운로드: https://github.com/hyerica-bdml/class-2020-datascience/tree/master/Week%208/input.zip  \n",
    "설명 - 영화DB사이트 (MovieLens)에서 수집된 데이터로서 u.data에는 사용자가 영화에 매긴 평점이 담겨있고 u.item에는 영화마다 제목, 카테고리 등의 정보가 담겨 있다.  \n",
    "입력파일 1 - u.data  \n",
    "라인마다 사용자의 영화평점이 기록되어 있으며 4개의 속성 \"user id \\t item id \\t rating \\t timestamp\"가 탭으로 구분되어 작성되어 있다. (즉, split(\"\\t\") 로 자를 수 있음)  \n",
    "모두 integer값이다.  \n",
    "한 사람이 여러개의 영화에 평점을 매길 수 있으므로 같은 user id로 시작하는 라인이 복수번 나타날수 있다.  \n",
    "item id는 아래 u.item파일에 있는 영화 아이디 (movie id)를 가리킨다 (즉, foreign key)   \n",
    "rating은 1에서 5까지 범위이다.  \n",
    "\n",
    "=> Data frame으로 읽는 방법:\n",
    "from pyspark.sql.types import *  \n",
    "udataschema = StructType([  \n",
    "  StructField(\"uid\", LongType(), False),  \n",
    "  StructField(\"mid\", LongType(), False),  \n",
    "  StructField(\"rate\",LongType(), False),  \n",
    "  StructField(\"timestamp\", LongType(), False)  \n",
    "])\n",
    "udata = spark.read.format(\"csv\").option(\"sep\", \"\\t\").schema(udataschema).load(\"u.data\")  \n",
    "\n",
    "입력파일 2 - u.item  \n",
    "라인마다 영화 정보가 기록되어 있으며 \"movie id | movie title | release date | video release date |  \n",
    "IMDb URL | unknown | Action | Adventure | Animation |  \n",
    "Children's | Comedy | Crime | Documentary | Drama | Fantasy |  \n",
    "Film-Noir | Horror | Musical | Mystery | Romance | Sci-Fi |  \n",
    "Thriller | War | Western\" 의 속성 들이 파이프라인(|)으로 구분되어 작성되어 있다.  \n",
    "그러나 아래 문제를 보면 맨 앞의 두개 속성, movie id와 movie title 만 사용한다.  \n",
    "movie id는 이 파일 안에서 한번만 나타난다 (즉, primary key)  \n",
    "\n",
    "=> Data frame으로 읽는 방법:  \n",
    "uitemschema = StructType(\\[  \n",
    "  StructField(\"mid\", LongType(), False),  \n",
    "  StructField(\"title\",StringType(), False)  \n",
    "])  \n",
    "uitem = spark.read.format(\"csv\").option(\"sep\", \"|\").schema(uitemschema).load(\"u.item\")  \n",
    "\n",
    "문제.\n",
    "5점을 받은 영화 중에서 알파벳 'T'로 시작하는 영화의 개수?\n",
    "\n",
    "'T'는 대문자  \n",
    "주의: 5점을 받은 영화중 알파벳 'T'로 시작하는 영화를 중복해서 세지 않도록!  \n",
    "제한조건: 위 코드를 이용해 u.data와 u.item을 DataFrame으로 읽어들여 select및 join을 이용하여 계산하시오.  \n",
    "제한조건: 마지막 action으로 답이 출력되도록 코드를 작성하시오. 즉, 최종 답을 계산하기 위해 pyspark action이 아닌 python 코드를 사용하지 마시오.  \n",
    "힌트: filter를 수행 시 filter조건을 표현할 때 어떤 column의 부분문자열을 뽑기 위해 pyspark.sql.functions.substring를 사용할 수 있음.   \n",
    "    예를 들어 uitem이란 data frame의 title이란 column의 첫 글자는 substring(uitem\\[\"title\"], 0, 1)으로 지정할 수 있음.  \n",
    "\n",
    "    \n",
    "문제 2 10점  \n",
    "문제.  \n",
    "사용자들에게 1점도 받고 5점도 받은 적이 있는 영화의 제목의 길이 중 가장 긴 영화제목의 길이?\n",
    "\n",
    "동일 영화가 어떤 사용자에게는 1점, 어떤 사용자에게는 5점을 받은 경우를 말함  \n",
    "힌트: 어떤 column의 길이의 max 를 select할 때 max 함수와 length함수를 사용.  \n",
    "예를 들어 uitem\\[\"title\"]의 길이의 max는 select(max(length(uitem\\[\"title\"]))) 로 계산 할 수 있음  \n",
    "제한조건: 마지막 action으로 답이 출력되도록 코드를 작성하시오. 즉, 최종 답을 계산하기 위해 pyspark action이 아닌 python 코드를 사용하지 마시오.  \n"
   ]
  },
  {
   "cell_type": "code",
   "execution_count": 1,
   "metadata": {},
   "outputs": [],
   "source": [
    "import findspark\n",
    "findspark.init()\n",
    "\n",
    "# create spark session\n",
    "from pyspark.sql import SparkSession\n",
    "spark = SparkSession.builder.appName(\"my app\").master(\"local\").getOrCreate() # spark deamon 생성 # 이전에는 spark.sparkContext\n",
    "\n",
    "# get context from the session\n",
    "sc = spark.sparkContext"
   ]
  },
  {
   "cell_type": "code",
   "execution_count": 5,
   "metadata": {},
   "outputs": [
    {
     "name": "stdout",
     "output_type": "stream",
     "text": [
      "+---+---+----+---------+\n",
      "|uid|mid|rate|timestamp|\n",
      "+---+---+----+---------+\n",
      "|196|242|   3|881250949|\n",
      "|186|302|   3|891717742|\n",
      "| 22|377|   1|878887116|\n",
      "+---+---+----+---------+\n",
      "only showing top 3 rows\n",
      "\n",
      "None\n",
      "root\n",
      " |-- uid: long (nullable = true)\n",
      " |-- mid: long (nullable = true)\n",
      " |-- rate: long (nullable = true)\n",
      " |-- timestamp: long (nullable = true)\n",
      "\n"
     ]
    }
   ],
   "source": [
    "from pyspark.sql.types import *\n",
    "schema = StructType([\n",
    "    StructField(\"uid\", LongType(), False),\n",
    "    StructField(\"mid\", LongType(), False),\n",
    "    StructField(\"rate\", LongType(), False),\n",
    "    StructField(\"timestamp\", LongType(), False)\n",
    "])\n",
    "udata = spark.read.format(\"csv\").option(\"sep\", \"\\t\" ).schema(schema).load(\"u.data\")\n",
    "print(udata.show(3))\n",
    "udata.printSchema()"
   ]
  },
  {
   "cell_type": "code",
   "execution_count": 6,
   "metadata": {},
   "outputs": [
    {
     "name": "stdout",
     "output_type": "stream",
     "text": [
      "+---+-----------------+\n",
      "|mid|            title|\n",
      "+---+-----------------+\n",
      "|  1| Toy Story (1995)|\n",
      "|  2| GoldenEye (1995)|\n",
      "|  3|Four Rooms (1995)|\n",
      "+---+-----------------+\n",
      "only showing top 3 rows\n",
      "\n",
      "None\n",
      "root\n",
      " |-- mid: long (nullable = true)\n",
      " |-- title: string (nullable = true)\n",
      "\n"
     ]
    }
   ],
   "source": [
    "schema = StructType([\n",
    "    StructField(\"mid\", LongType(), False),\n",
    "    StructField(\"title\", StringType(), False)\n",
    "])\n",
    "uitem = spark.read.format(\"csv\").option(\"sep\", \"|\").schema(schema).load(\"u.item\")\n",
    "print(uitem.show(3))\n",
    "uitem.printSchema() "
   ]
  },
  {
   "cell_type": "code",
   "execution_count": 7,
   "metadata": {},
   "outputs": [
    {
     "name": "stdout",
     "output_type": "stream",
     "text": [
      "+----+--------------------+---+----+----+---------+\n",
      "| mid|               title|uid| mid|rate|timestamp|\n",
      "+----+--------------------+---+----+----+---------+\n",
      "| 242|        Kolya (1996)|196| 242|   3|881250949|\n",
      "| 302|L.A. Confidential...|186| 302|   3|891717742|\n",
      "| 377| Heavyweights (1994)| 22| 377|   1|878887116|\n",
      "|  51|Legends of the Fa...|244|  51|   2|880606923|\n",
      "| 346| Jackie Brown (1997)|166| 346|   1|886397596|\n",
      "| 474|Dr. Strangelove o...|298| 474|   4|884182806|\n",
      "| 265|Hunt for Red Octo...|115| 265|   2|881171488|\n",
      "| 465|Jungle Book, The ...|253| 465|   5|891628467|\n",
      "| 451|       Grease (1978)|305| 451|   3|886324817|\n",
      "|  86|Remains of the Da...|  6|  86|   3|883603013|\n",
      "| 257| Men in Black (1997)| 62| 257|   2|879372434|\n",
      "|1014|Romy and Michele'...|286|1014|   5|879781125|\n",
      "| 222|Star Trek: First ...|200| 222|   5|876042340|\n",
      "|  40|To Wong Foo, Than...|210|  40|   3|891035994|\n",
      "|  29|Batman Forever (1...|224|  29|   3|888104457|\n",
      "| 785|     Only You (1994)|303| 785|   3|879485318|\n",
      "| 387|Age of Innocence,...|122| 387|   5|879270459|\n",
      "| 274|      Sabrina (1995)|194| 274|   2|879539794|\n",
      "|1042|   Just Cause (1995)|291|1042|   4|874834944|\n",
      "|1184|Endless Summer 2,...|234|1184|   2|892079237|\n",
      "+----+--------------------+---+----+----+---------+\n",
      "only showing top 20 rows\n",
      "\n"
     ]
    }
   ],
   "source": [
    "# join\n",
    "uitem.join(udata, uitem[\"mid\"] == udata[\"mid\"], \"inner\").show()"
   ]
  },
  {
   "cell_type": "code",
   "execution_count": 19,
   "metadata": {},
   "outputs": [
    {
     "name": "stdout",
     "output_type": "stream",
     "text": [
      "+----+--------------------+---+----+----+---------+\n",
      "| mid|               title|uid| mid|rate|timestamp|\n",
      "+----+--------------------+---+----+----+---------+\n",
      "| 465|Jungle Book, The ...|253| 465|   5|891628467|\n",
      "|1014|Romy and Michele'...|286|1014|   5|879781125|\n",
      "| 222|Star Trek: First ...|200| 222|   5|876042340|\n",
      "| 387|Age of Innocence,...|122| 387|   5|879270459|\n",
      "|  95|      Aladdin (1992)| 38|  95|   5|892430094|\n",
      "| 234|         Jaws (1975)|160| 234|   5|876861185|\n",
      "| 603|  Rear Window (1954)|278| 603|   5|891295330|\n",
      "| 327|     Cop Land (1997)|287| 327|   5|875333916|\n",
      "| 201| Evil Dead II (1987)|246| 201|   5|884921594|\n",
      "|1137|Beautiful Thing (...|242|1137|   5|879741196|\n",
      "| 241|Last of the Mohic...|249| 241|   5|879641194|\n",
      "|   4|   Get Shorty (1995)| 99|   4|   5|886519097|\n",
      "| 181|Return of the Jed...| 25| 181|   5|885853415|\n",
      "| 196|Dead Poets Societ...| 59| 196|   5|888205088|\n",
      "| 143|Sound of Music, T...|290| 143|   5|880474293|\n",
      "| 423|E.T. the Extra-Te...| 42| 423|   5|881107687|\n",
      "|  26|Brothers McMullen...|138|  26|   5|879024232|\n",
      "| 427|To Kill a Mocking...| 60| 427|   5|883326620|\n",
      "| 304|Fly Away Home (1996)| 57| 304|   5|883698581|\n",
      "| 229|Star Trek III: Th...|127| 229|   5|884364867|\n",
      "+----+--------------------+---+----+----+---------+\n",
      "only showing top 20 rows\n",
      "\n"
     ]
    }
   ],
   "source": [
    "from pyspark.sql.functions import *\n",
    "uitem.join(udata, uitem[\"mid\"] == udata[\"mid\"], \"inner\").filter( col('rate') == 5  ).show()"
   ]
  },
  {
   "cell_type": "code",
   "execution_count": 22,
   "metadata": {},
   "outputs": [
    {
     "name": "stdout",
     "output_type": "stream",
     "text": [
      "+----+--------------------+---+----+----+---------+\n",
      "| mid|               title|uid| mid|rate|timestamp|\n",
      "+----+--------------------+---+----+----+---------+\n",
      "|  40|To Wong Foo, Than...|210|  40|   3|891035994|\n",
      "| 118|      Twister (1996)|291| 118|   2|874833878|\n",
      "|   1|    Toy Story (1995)|308|   1|   4|887736532|\n",
      "| 979|Trigger Effect, T...|201| 979|   2|884114233|\n",
      "| 564|Tales from the Ho...|276| 564|   3|874791805|\n",
      "| 427|To Kill a Mocking...| 60| 427|   5|883326620|\n",
      "|1444|That Darn Cat! (1...|254|1444|   3|886475558|\n",
      "| 111|Truth About Cats ...| 11| 111|   4|891903862|\n",
      "| 209|This Is Spinal Ta...| 28| 209|   4|881961214|\n",
      "|  23|  Taxi Driver (1976)|135|  23|   4|879857765|\n",
      "| 118|      Twister (1996)|265| 118|   4|875320714|\n",
      "|  96|Terminator 2: Jud...| 42|  96|   5|881107178|\n",
      "| 195|Terminator, The (...| 44| 195|   5|878347874|\n",
      "| 385|    True Lies (1994)|194| 385|   2|879524643|\n",
      "| 195|Terminator, The (...| 72| 195|   5|880037702|\n",
      "|  23|  Taxi Driver (1976)| 59|  23|   5|888205300|\n",
      "| 379|Tales From the Cr...|286| 379|   5|877533771|\n",
      "| 427|To Kill a Mocking...|305| 427|   5|886323090|\n",
      "| 111|Truth About Cats ...|299| 111|   3|877878184|\n",
      "| 427|To Kill a Mocking...| 85| 427|   3|879456350|\n",
      "+----+--------------------+---+----+----+---------+\n",
      "only showing top 20 rows\n",
      "\n"
     ]
    }
   ],
   "source": [
    "from pyspark.sql.functions import *\n",
    "uitem.join(udata, uitem[\"mid\"] == udata[\"mid\"], \"inner\").filter( col('title')[0:1] == 'T').show()"
   ]
  },
  {
   "cell_type": "code",
   "execution_count": 27,
   "metadata": {},
   "outputs": [
    {
     "name": "stdout",
     "output_type": "stream",
     "text": [
      "+---+--------------------+---+---+----+---------+\n",
      "|mid|               title|uid|mid|rate|timestamp|\n",
      "+---+--------------------+---+---+----+---------+\n",
      "| 96|Terminator 2: Jud...| 42| 96|   5|881107178|\n",
      "|195|Terminator, The (...| 44|195|   5|878347874|\n",
      "|195|Terminator, The (...| 72|195|   5|880037702|\n",
      "| 96|Terminator 2: Jud...|193| 96|   1|889124507|\n",
      "| 96|Terminator 2: Jud...|200| 96|   5|884129409|\n",
      "| 96|Terminator 2: Jud...|197| 96|   5|891409839|\n",
      "| 96|Terminator 2: Jud...|263| 96|   4|891298336|\n",
      "|586|Terminal Velocity...|279|586|   4|892864663|\n",
      "| 96|Terminator 2: Jud...|239| 96|   5|889178798|\n",
      "| 96|Terminator 2: Jud...|188| 96|   5|875073128|\n",
      "| 96|Terminator 2: Jud...|279| 96|   4|875310606|\n",
      "|195|Terminator, The (...| 13|195|   3|881515296|\n",
      "|195|Terminator, The (...| 42|195|   5|881107949|\n",
      "|195|Terminator, The (...| 77|195|   5|884733695|\n",
      "| 96|Terminator 2: Jud...|313| 96|   5|891015144|\n",
      "| 96|Terminator 2: Jud...|262| 96|   4|879793022|\n",
      "| 96|Terminator 2: Jud...|175| 96|   3|877108051|\n",
      "|195|Terminator, The (...|292|195|   5|881103568|\n",
      "|195|Terminator, The (...|217|195|   5|889069709|\n",
      "|195|Terminator, The (...|109|195|   5|880578038|\n",
      "+---+--------------------+---+---+----+---------+\n",
      "only showing top 20 rows\n",
      "\n"
     ]
    }
   ],
   "source": [
    "from pyspark.sql.functions import *\n",
    "uitem.join(udata, uitem[\"mid\"] == udata[\"mid\"], \"inner\").filter( col('title')[0:3] == 'Ter').show()"
   ]
  },
  {
   "cell_type": "code",
   "execution_count": 29,
   "metadata": {},
   "outputs": [
    {
     "name": "stdout",
     "output_type": "stream",
     "text": [
      "+----+--------------------+---+----+----+---------+\n",
      "| mid|               title|uid| mid|rate|timestamp|\n",
      "+----+--------------------+---+----+----+---------+\n",
      "|  40|To Wong Foo, Than...|210|  40|   3|891035994|\n",
      "| 118|      Twister (1996)|291| 118|   2|874833878|\n",
      "|   1|    Toy Story (1995)|308|   1|   4|887736532|\n",
      "| 979|Trigger Effect, T...|201| 979|   2|884114233|\n",
      "| 564|Tales from the Ho...|276| 564|   3|874791805|\n",
      "| 427|To Kill a Mocking...| 60| 427|   5|883326620|\n",
      "|1444|That Darn Cat! (1...|254|1444|   3|886475558|\n",
      "| 111|Truth About Cats ...| 11| 111|   4|891903862|\n",
      "| 209|This Is Spinal Ta...| 28| 209|   4|881961214|\n",
      "|  23|  Taxi Driver (1976)|135|  23|   4|879857765|\n",
      "| 118|      Twister (1996)|265| 118|   4|875320714|\n",
      "|  96|Terminator 2: Jud...| 42|  96|   5|881107178|\n",
      "| 195|Terminator, The (...| 44| 195|   5|878347874|\n",
      "| 385|    True Lies (1994)|194| 385|   2|879524643|\n",
      "| 195|Terminator, The (...| 72| 195|   5|880037702|\n",
      "|  23|  Taxi Driver (1976)| 59|  23|   5|888205300|\n",
      "| 379|Tales From the Cr...|286| 379|   5|877533771|\n",
      "| 427|To Kill a Mocking...|305| 427|   5|886323090|\n",
      "| 111|Truth About Cats ...|299| 111|   3|877878184|\n",
      "| 427|To Kill a Mocking...| 85| 427|   3|879456350|\n",
      "+----+--------------------+---+----+----+---------+\n",
      "only showing top 20 rows\n",
      "\n"
     ]
    }
   ],
   "source": [
    "from pyspark.sql.functions import *\n",
    "uitem.join(udata, uitem[\"mid\"] == udata[\"mid\"], \"inner\").filter( substring(uitem[\"title\"], 0, 1) == 'T').show()"
   ]
  },
  {
   "cell_type": "code",
   "execution_count": null,
   "metadata": {},
   "outputs": [],
   "source": []
  },
  {
   "cell_type": "code",
   "execution_count": 24,
   "metadata": {},
   "outputs": [
    {
     "name": "stdout",
     "output_type": "stream",
     "text": [
      "+---+--------------------+---+---+----+---------+\n",
      "|mid|               title|uid|mid|rate|timestamp|\n",
      "+---+--------------------+---+---+----+---------+\n",
      "|427|To Kill a Mocking...| 60|427|   5|883326620|\n",
      "| 96|Terminator 2: Jud...| 42| 96|   5|881107178|\n",
      "|195|Terminator, The (...| 44|195|   5|878347874|\n",
      "|195|Terminator, The (...| 72|195|   5|880037702|\n",
      "| 23|  Taxi Driver (1976)| 59| 23|   5|888205300|\n",
      "|379|Tales From the Cr...|286|379|   5|877533771|\n",
      "|427|To Kill a Mocking...|305|427|   5|886323090|\n",
      "|209|This Is Spinal Ta...|218|209|   5|877488546|\n",
      "| 96|Terminator 2: Jud...|200| 96|   5|884129409|\n",
      "| 96|Terminator 2: Jud...|197| 96|   5|891409839|\n",
      "|715|   To Die For (1995)| 59|715|   5|888205921|\n",
      "| 60|Three Colors: Blu...| 60| 60|   5|883327734|\n",
      "|  1|    Toy Story (1995)|287|  1|   5|875334088|\n",
      "|845|That Thing You Do...|274|845|   5|878945579|\n",
      "| 92| True Romance (1993)| 59| 92|   5|888204997|\n",
      "|161|      Top Gun (1986)|303|161|   5|879468547|\n",
      "|937|Thousand Acres, A...|174|937|   5|886432989|\n",
      "|513|Third Man, The (1...|239|513|   5|889178887|\n",
      "|644|Thin Blue Line, T...|  7|644|   5|891351685|\n",
      "| 96|Terminator 2: Jud...|239| 96|   5|889178798|\n",
      "+---+--------------------+---+---+----+---------+\n",
      "only showing top 20 rows\n",
      "\n"
     ]
    }
   ],
   "source": [
    "uitem.join(udata, uitem[\"mid\"] == udata[\"mid\"], \"inner\").filter( (col('rate') == 5) & (col('title')[0:1] == 'T') ).show()"
   ]
  },
  {
   "cell_type": "code",
   "execution_count": 25,
   "metadata": {},
   "outputs": [
    {
     "name": "stdout",
     "output_type": "stream",
     "text": [
      "+---+--------------------+---+---+----+---------+\n",
      "|mid|               title|uid|mid|rate|timestamp|\n",
      "+---+--------------------+---+---+----+---------+\n",
      "|282|Time to Kill, A (...| 57|282|   5|883697223|\n",
      "|  1|    Toy Story (1995)|291|  1|   5|874834481|\n",
      "| 59|Three Colors: Red...|527| 59|   5|879455792|\n",
      "| 59|Three Colors: Red...|354| 59|   5|891218208|\n",
      "|195|Terminator, The (...|495|195|   5|888633396|\n",
      "|  1|    Toy Story (1995)|523|  1|   5|883701763|\n",
      "| 23|  Taxi Driver (1976)|615| 23|   5|879448547|\n",
      "|  1|    Toy Story (1995)|893|  1|   5|874827725|\n",
      "|475|Trainspotting (1996)|232|475|   5|880062469|\n",
      "|385|    True Lies (1994)| 42|385|   5|881108147|\n",
      "|513|Third Man, The (1...|138|513|   5|879024043|\n",
      "|111|Truth About Cats ...|524|111|   5|884323426|\n",
      "|  7|Twelve Monkeys (1...|758|  7|   5|881975243|\n",
      "|195|Terminator, The (...|867|195|   5|880078452|\n",
      "|513|Third Man, The (1...|387|513|   5|886483330|\n",
      "|427|To Kill a Mocking...|903|427|   5|891466376|\n",
      "|845|That Thing You Do...|274|845|   5|878945579|\n",
      "|209|This Is Spinal Ta...| 64|209|   5|889737654|\n",
      "|  7|Twelve Monkeys (1...|561|  7|   5|885808738|\n",
      "|313|      Titanic (1997)|157|313|   5|886889616|\n",
      "+---+--------------------+---+---+----+---------+\n",
      "only showing top 20 rows\n",
      "\n"
     ]
    }
   ],
   "source": [
    "uitem.join(udata, uitem[\"mid\"] == udata[\"mid\"], \"inner\").filter( (col('rate') == 5) & (col('title')[0:1] == 'T') ).distinct().show()"
   ]
  },
  {
   "cell_type": "code",
   "execution_count": 38,
   "metadata": {},
   "outputs": [
    {
     "data": {
      "text/plain": [
       "1507"
      ]
     },
     "execution_count": 38,
     "metadata": {},
     "output_type": "execute_result"
    }
   ],
   "source": [
    "uitem.join(udata, uitem[\"mid\"] == udata[\"mid\"], \"inner\").filter( (col('rate') == 5) & (col('title')[0:1] == 'T') ).distinct().count()"
   ]
  },
  {
   "cell_type": "markdown",
   "metadata": {},
   "source": [
    "### 정리"
   ]
  },
  {
   "cell_type": "code",
   "execution_count": 41,
   "metadata": {},
   "outputs": [
    {
     "name": "stdout",
     "output_type": "stream",
     "text": [
      "+---+--------------------+---+----+\n",
      "|mid|               title|mid|rate|\n",
      "+---+--------------------+---+----+\n",
      "|427|To Kill a Mocking...|427|   5|\n",
      "| 96|Terminator 2: Jud...| 96|   5|\n",
      "|195|Terminator, The (...|195|   5|\n",
      "|195|Terminator, The (...|195|   5|\n",
      "| 23|  Taxi Driver (1976)| 23|   5|\n",
      "|379|Tales From the Cr...|379|   5|\n",
      "|427|To Kill a Mocking...|427|   5|\n",
      "|209|This Is Spinal Ta...|209|   5|\n",
      "| 96|Terminator 2: Jud...| 96|   5|\n",
      "| 96|Terminator 2: Jud...| 96|   5|\n",
      "|715|   To Die For (1995)|715|   5|\n",
      "| 60|Three Colors: Blu...| 60|   5|\n",
      "|  1|    Toy Story (1995)|  1|   5|\n",
      "|845|That Thing You Do...|845|   5|\n",
      "| 92| True Romance (1993)| 92|   5|\n",
      "|161|      Top Gun (1986)|161|   5|\n",
      "|937|Thousand Acres, A...|937|   5|\n",
      "|513|Third Man, The (1...|513|   5|\n",
      "|644|Thin Blue Line, T...|644|   5|\n",
      "| 96|Terminator 2: Jud...| 96|   5|\n",
      "+---+--------------------+---+----+\n",
      "only showing top 20 rows\n",
      "\n"
     ]
    }
   ],
   "source": [
    "uitem.select(\"mid\", \"title\")\\\n",
    ".join(udata.select(\"mid\", \"rate\"), uitem[\"mid\"] == udata[\"mid\"], \"inner\")\\\n",
    ".filter( (col('rate') == 5) & (col('title')[0:1] == 'T') ).show()"
   ]
  },
  {
   "cell_type": "code",
   "execution_count": 42,
   "metadata": {},
   "outputs": [
    {
     "name": "stdout",
     "output_type": "stream",
     "text": [
      "+----+--------------------+----+----+\n",
      "| mid|               title| mid|rate|\n",
      "+----+--------------------+----+----+\n",
      "| 111|Truth About Cats ...| 111|   5|\n",
      "| 313|      Titanic (1997)| 313|   5|\n",
      "| 712|      Tin Men (1987)| 712|   5|\n",
      "| 790|    Tommy Boy (1995)| 790|   5|\n",
      "|  61|Three Colors: Whi...|  61|   5|\n",
      "| 592|   True Crime (1995)| 592|   5|\n",
      "| 797|      Timecop (1994)| 797|   5|\n",
      "|1122|They Made Me a Cr...|1122|   5|\n",
      "| 379|Tales From the Cr...| 379|   5|\n",
      "|1358|The Deadly Cure (...|1358|   5|\n",
      "|1203|      Top Hat (1935)|1203|   5|\n",
      "|   1|    Toy Story (1995)|   1|   5|\n",
      "| 195|Terminator, The (...| 195|   5|\n",
      "|1260|Total Eclipse (1995)|1260|   5|\n",
      "| 284|      Tin Cup (1996)| 284|   5|\n",
      "| 715|   To Die For (1995)| 715|   5|\n",
      "| 513|Third Man, The (1...| 513|   5|\n",
      "| 426|Transformers: The...| 426|   5|\n",
      "|  23|  Taxi Driver (1976)|  23|   5|\n",
      "|  96|Terminator 2: Jud...|  96|   5|\n",
      "+----+--------------------+----+----+\n",
      "only showing top 20 rows\n",
      "\n"
     ]
    }
   ],
   "source": [
    "uitem.select(\"mid\", \"title\")\\\n",
    ".join(udata.select(\"mid\", \"rate\"), uitem[\"mid\"] == udata[\"mid\"], \"inner\")\\\n",
    ".filter( (col('rate') == 5) & (col('title')[0:1] == 'T') )\\\n",
    ".distinct().show()"
   ]
  },
  {
   "cell_type": "code",
   "execution_count": 44,
   "metadata": {},
   "outputs": [
    {
     "data": {
      "text/plain": [
       "75"
      ]
     },
     "execution_count": 44,
     "metadata": {},
     "output_type": "execute_result"
    }
   ],
   "source": [
    "uitem.select(\"mid\", \"title\")\\\n",
    ".join(udata.select(\"mid\", \"rate\"), uitem[\"mid\"] == udata[\"mid\"], \"inner\")\\\n",
    ".filter( (col('rate') == 5) & (col('title')[0:1] == 'T') )\\\n",
    ".distinct().count()"
   ]
  },
  {
   "cell_type": "code",
   "execution_count": null,
   "metadata": {},
   "outputs": [],
   "source": []
  }
 ],
 "metadata": {
  "kernelspec": {
   "display_name": "Python 3",
   "language": "python",
   "name": "python3"
  },
  "language_info": {
   "codemirror_mode": {
    "name": "ipython",
    "version": 3
   },
   "file_extension": ".py",
   "mimetype": "text/x-python",
   "name": "python",
   "nbconvert_exporter": "python",
   "pygments_lexer": "ipython3",
   "version": "3.6.9"
  }
 },
 "nbformat": 4,
 "nbformat_minor": 4
}
