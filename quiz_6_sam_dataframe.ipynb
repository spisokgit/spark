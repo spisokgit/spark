{
 "cells": [
  {
   "cell_type": "markdown",
   "metadata": {},
   "source": [
    "### 입력 데이터:\n",
    "\n",
    "* 다운로드: https://github.com/nongaussian/class-2020-spark/blob/master/Week%208/input.zip\n",
    "* 설명 - 영화DB사이트 (MovieLens)에서 수집된 데이터로서 u.data에는 사용자가 영화에 매긴 평점이 담겨있고 u.item에는 영화마다 제목, 카테고리 등의 정보가 담겨 있다.\n",
    "\n",
    "\n",
    "#### 입력파일 1 - u.data\n",
    "\n",
    "* 라인마다 사용자의 영화평점이 기록되어 있으며 4개의 속성 \"user id \\t item id \\t rating \\t timestamp\"가 탭으로 구분되어 작성되어 있다. (즉, split(\"\\t\") 로 자를 수 있음)\n",
    "* 모두 integer값이다.\n",
    "* 한 사람이 여러개의 영화에 평점을 매길 수 있으므로 같은 user id로 시작하는 라인이 복수번 나타날수 있다.\n",
    "* item id는 아래 u.item파일에 있는 영화 아이디 (movie id)를 가리킨다 (즉, foreign key)\n",
    "* rating은 1에서 5까지 범위이다.\n",
    "\n",
    "\n",
    "***힌트*** Data frame으로 읽는 방법:\n",
    "\n",
    " ````python\n",
    " from pyspark.sql.types import *\n",
    "\n",
    " udataschema = StructType([\n",
    "   StructField(\"uid\", LongType(), False),\n",
    "   StructField(\"mid\", LongType(), False),\n",
    "   StructField(\"rate\",LongType(), False),\n",
    "   StructField(\"timestamp\", LongType(), False)\n",
    " ])\n",
    "\n",
    " udata = spark.read.format(\"csv\").option(\"sep\", \"\\t\").schema(udataschema).load(\"u.data\")\n",
    " ````\n",
    "\n",
    "\n",
    "#### 입력파일 2 - u.item\n",
    "\n",
    "* 라인마다 영화 정보가 기록되어 있으며 \"movie id | movie title | release date | video release date | IMDb URL | unknown | Action | Adventure | Animation | Children's | Comedy | Crime | Documentary | Drama | Fantasy | Film-Noir | Horror | Musical | Mystery | Romance | Sci-Fi | Thriller | War | Western\" 의 속성 들이 파이프라인(|)으로 구분되어 작성되어 있다.\n",
    "* 그러나 아래 문제를 보면 맨 앞의 두개 속성, movie id와 movie title 만 사용한다.\n",
    "* movie id는 이 파일 안에서 한번만 나타난다 (즉, primary key)\n",
    "\n",
    "\n",
    "***힌트*** Data frame으로 읽는 방법:\n",
    "\n",
    "````python\n",
    "uitemschema = StructType([\n",
    "  StructField(\"mid\", LongType(), False),\n",
    "  StructField(\"title\",StringType(), False)\n",
    "])\n",
    "\n",
    "uitem = spark.read.format(\"csv\").option(\"sep\", \"|\").schema(uitemschema).load(\"u.item\")\n",
    "````\n",
    "\n",
    "\n",
    "### 문제 1.\n",
    "* 5점을 받은 영화 중에서 알파벳 'T'로 시작하는 영화의 개수는?\n",
    "* 'T'는 대문자\n",
    "* 주의: 5점을 받은 영화중 알파벳 'T'로 시작하는 영화를 중복해서 세지 않도록!\n",
    "* 제한조건: 위 코드를 이용해 u.data와 u.item을 DataFrame으로 읽어들여 select및 join을 이용하여 계산하시오.\n",
    "* 제한조건: 마지막 action으로 답이 출력되도록 코드를 작성하시오. 즉, 최종 답을 계산하기 위해 pyspark action이 아닌 python 코드를 사용하지 마시오.\n",
    "* 힌트: filter를 수행 시 filter조건을 표현할 때 어떤 column의 부분문자열을 뽑기 위해 pyspark.sql.functions.substring를 사용할 수 있음. 예를 들어 uitem이란 data frame의 title이란 column의 첫 글자는 substring(uitem[\"title\"], 0, 1)으로 지정할 수 있음.\n",
    "\n",
    "### 문제 2.\n",
    "* 사용자들에게 1점도 받고 5점도 받은 적이 있는 영화의 제목의 길이 중 가장 긴 영화제목의 길이는?\n",
    "* 동일 영화가 어떤 사용자에게는 1점, 어떤 사용자에게는 5점을 받은 경우를 말함\n",
    "* 힌트: 어떤 column의 길이의 max 를 select할 때 max 함수와 length함수를 사용. 예를 들어 uitem[\"title\"]의 길이의 max는 select(max(length(uitem[\"title\"]))) 로 계산 할 수 있음\n",
    "* 제한조건: 마지막 action으로 답이 출력되도록 코드를 작성하시오. 즉, 최종 답을 계산하기 위해 pyspark action이 아닌 python 코드를 사용하지 마시오."
   ]
  },
  {
   "cell_type": "code",
   "execution_count": 1,
   "metadata": {},
   "outputs": [],
   "source": [
    "import findspark\n",
    "findspark.init()\n",
    "\n",
    "# create spark session\n",
    "from pyspark.sql import SparkSession\n",
    "spark = SparkSession.builder.appName(\"my app\").master(\"local\").getOrCreate()\n",
    "\n",
    "# get context from the session\n",
    "sc = spark.sparkContext"
   ]
  },
  {
   "cell_type": "code",
   "execution_count": 4,
   "metadata": {},
   "outputs": [],
   "source": [
    "from pyspark.sql.types import *\n",
    "\n",
    "udataschema = StructType([\n",
    "    StructField(\"uid\", LongType(), False),\n",
    "    StructField(\"mid\", LongType(), False),\n",
    "    StructField(\"rate\",LongType(), False),\n",
    "    StructField(\"timestamp\", LongType(), False)\n",
    "])\n",
    "udata = spark.read.format(\"csv\").option(\"sep\", \"\\t\").schema(udataschema).load(\"u.data\")"
   ]
  },
  {
   "cell_type": "code",
   "execution_count": 5,
   "metadata": {},
   "outputs": [],
   "source": [
    "uitemschema = StructType([\n",
    "    StructField(\"mid\", LongType(), False),\n",
    "    StructField(\"title\",StringType(), False)\n",
    "])\n",
    "uitem = spark.read.format(\"csv\").option(\"sep\", \"|\").schema(uitemschema).load(\"u.item\")"
   ]
  },
  {
   "cell_type": "code",
   "execution_count": 8,
   "metadata": {},
   "outputs": [
    {
     "name": "stdout",
     "output_type": "stream",
     "text": [
      "+---+---+----+---------+\n",
      "|uid|mid|rate|timestamp|\n",
      "+---+---+----+---------+\n",
      "|196|242|   3|881250949|\n",
      "|186|302|   3|891717742|\n",
      "| 22|377|   1|878887116|\n",
      "|244| 51|   2|880606923|\n",
      "|166|346|   1|886397596|\n",
      "|298|474|   4|884182806|\n",
      "|115|265|   2|881171488|\n",
      "|253|465|   5|891628467|\n",
      "|305|451|   3|886324817|\n",
      "|  6| 86|   3|883603013|\n",
      "+---+---+----+---------+\n",
      "only showing top 10 rows\n",
      "\n"
     ]
    }
   ],
   "source": [
    "udata.show(10)"
   ]
  },
  {
   "cell_type": "code",
   "execution_count": 9,
   "metadata": {},
   "outputs": [
    {
     "name": "stdout",
     "output_type": "stream",
     "text": [
      "+---+--------------------+\n",
      "|mid|               title|\n",
      "+---+--------------------+\n",
      "|  1|    Toy Story (1995)|\n",
      "|  2|    GoldenEye (1995)|\n",
      "|  3|   Four Rooms (1995)|\n",
      "|  4|   Get Shorty (1995)|\n",
      "|  5|      Copycat (1995)|\n",
      "|  6|Shanghai Triad (Y...|\n",
      "|  7|Twelve Monkeys (1...|\n",
      "|  8|         Babe (1995)|\n",
      "|  9|Dead Man Walking ...|\n",
      "| 10|  Richard III (1995)|\n",
      "+---+--------------------+\n",
      "only showing top 10 rows\n",
      "\n"
     ]
    }
   ],
   "source": [
    "uitem.show(10)"
   ]
  },
  {
   "cell_type": "markdown",
   "metadata": {},
   "source": [
    "### 5점을 받은 영화 중에서 알파벳 'T'로 시작하는 영화의 개수"
   ]
  },
  {
   "cell_type": "code",
   "execution_count": 30,
   "metadata": {},
   "outputs": [
    {
     "data": {
      "text/plain": [
       "75"
      ]
     },
     "execution_count": 30,
     "metadata": {},
     "output_type": "execute_result"
    }
   ],
   "source": [
    "from pyspark.sql.functions import *\n",
    "\n",
    "udata\\\n",
    ".join(uitem, udata[\"mid\"] == uitem[\"mid\"], \"inner\")\\\n",
    ".filter(udata[\"rate\"] == 5)\\\n",
    ".filter(substring(uitem[\"title\"], 0, 1) == \"T\")\\\n",
    ".select(uitem[\"mid\"])\\\n",
    ".distinct()\\\n",
    ".count()"
   ]
  },
  {
   "cell_type": "markdown",
   "metadata": {},
   "source": [
    "### 1점도 받고 5점도 받은 영화의 제목의 길이중 가장 긴 영화제목의 길이는?"
   ]
  },
  {
   "cell_type": "code",
   "execution_count": 27,
   "metadata": {
    "scrolled": true
   },
   "outputs": [
    {
     "name": "stdout",
     "output_type": "stream",
     "text": [
      "+------------------+\n",
      "|max(length(title))|\n",
      "+------------------+\n",
      "|                81|\n",
      "+------------------+\n",
      "\n"
     ]
    }
   ],
   "source": [
    "udata1 = udata.filter(udata[\"rate\"] == 1).select(\"mid\").distinct()\n",
    "udata2 = udata.filter(udata[\"rate\"] == 5).select(\"mid\").distinct()\n",
    "udata1\\\n",
    "    .join(udata2, \"mid\")\\\n",
    "    .join(uitem, udata1[\"mid\"] == uitem[\"mid\"])\\\n",
    "    .select(max(length(uitem[\"title\"])))\\\n",
    "    .show()"
   ]
  },
  {
   "cell_type": "code",
   "execution_count": null,
   "metadata": {},
   "outputs": [],
   "source": []
  }
 ],
 "metadata": {
  "kernelspec": {
   "display_name": "Python 3",
   "language": "python",
   "name": "python3"
  },
  "language_info": {
   "codemirror_mode": {
    "name": "ipython",
    "version": 3
   },
   "file_extension": ".py",
   "mimetype": "text/x-python",
   "name": "python",
   "nbconvert_exporter": "python",
   "pygments_lexer": "ipython3",
   "version": "3.6.9"
  }
 },
 "nbformat": 4,
 "nbformat_minor": 4
}
