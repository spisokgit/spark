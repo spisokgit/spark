{
 "cells": [
  {
   "cell_type": "markdown",
   "metadata": {},
   "source": [
    "입력 데이터 (Week 6/input.zip) 텍스트데이터: input.txt  \n",
    "\n",
    "문제  \n",
    "\n",
    "출현하는 단어의 첫 번째 두 글자 (= 길이2짜리 머리글자)의 출현 빈도를 세고     \n",
    "이 출현빈도가 정확히 32인 \"길이 2짜리 머리글자\"로 시작하는 단어들을 중복없이 나열하였을 때 그 개수는?  \n",
    "  \n",
    "예를 들어 \"active action accuracy behave behave behave \"라는 문서가 있다면  \n",
    "첫번째 두글자의 출현 빈도는 (ac, 3), (be, 3) 가 될테고,  \n",
    "이 중 예를 들어 출현빈도가 정확히 3인 \"두글자\"로 시작하는 단어들의 리스트는 active action accuracy behave behave behave 가 될것이고  \n",
    "이를 중복없이 나열하였을 때 그 개수는 4이다.  \n",
    "힌트: groupByKey를 써서 두글자의 카운트를 세고   \n",
    "      flatMap을 써서 출현빈도가 32인 길이 2인 머리글자를 가진 단어를 리스트한다음   \n",
    "      count 가능  \n",
    "주의  \n",
    "대소문자 구별하지 않음  \n",
    "문장부호(, . ? ‘ “ 등)은 따로 처리하지 않음      \n",
    "* 처음 34 나옴 : 대소문자 구별을 datas에서 하지 않고 슬라이싱이후에 했음  \n",
    "* 저번 quiz-3에서 못 풀어었던 첫 2글자가 들어가는 datas filtering을 datas.filter(lambda x: x[:2] in list)로 해결  "
   ]
  },
  {
   "cell_type": "code",
   "execution_count": 2,
   "metadata": {},
   "outputs": [],
   "source": [
    "import findspark\n",
    "findspark.init()\n",
    "from pyspark import SparkContext\n",
    "sc = SparkContext(\"local\", \"transformation 2\")"
   ]
  },
  {
   "cell_type": "code",
   "execution_count": 41,
   "metadata": {},
   "outputs": [
    {
     "name": "stdout",
     "output_type": "stream",
     "text": [
      "[('em', 32), ('ce', 32)]\n"
     ]
    },
    {
     "data": {
      "text/plain": [
       "['em', 'ce']"
      ]
     },
     "execution_count": 41,
     "metadata": {},
     "output_type": "execute_result"
    }
   ],
   "source": [
    "# flatMap, filter이용 공백단어는 제거 \n",
    "readfile=sc.textFile(\"input.txt\").flatMap(lambda x: x.split(\" \")).filter(lambda x: x !=\"\")\n",
    "\n",
    "# 단어중 첫글자에 공백 있을 수 있어 제외  # 1문자인 것은 제외, 두 글자이상만  # 대소문자구별하지 않으므로 소문자로 변경\n",
    "datas=readfile.map(lambda x: x.strip()).filter(lambda x: len(x)>=2).map(lambda x: x.lower())\n",
    "\n",
    "# 첫번째 두글자만 추출(slicing) 한 list 생성\n",
    "keys = datas.map(lambda x : x[:2])\n",
    "\n",
    "# groupByKey() 적용\n",
    "keys_tuple_groupbykey = keys_lower.map(lambda x:(x, 1)).groupByKey().mapValues(sum)\n",
    "# keys_tuple_groupbykey.collect()\n",
    "#     [('st', 515),\n",
    "#      ('in', 1076),\n",
    "#      ('sc', 70),\n",
    "#      ('pa', 188),\n",
    "#      ('i.', 9),\n",
    "#      ('(b', 1),\n",
    "#      ('re', 456),\n",
    "#      ('fr', 270),\n",
    "#      ('th', 4546),,,,]\n",
    "\n",
    "# reduceByKey() 적용 동일한 값\n",
    "# keys_tuple_reducebykey = keys_lower.map(lambda x:(x, 1)).reduceByKey(lambda a,b : a+b)\n",
    "\n",
    "# 출현빈도가 정확히 32인 \"길이 2짜리 머리글자\" filter 적용\n",
    "keys_filtered_32 = keys_tuple_groupbykey.filter(lambda v: v[1] == 32)\n",
    "print(keys_filtered_32.collect())\n",
    "# [('em', 32), ('ce', 32)]\n",
    "keys_32 = keys_filtered_32.keys()\n",
    "keys_32_list=keys_32.collect()\n",
    "type(keys_32_list) # list\n",
    "keys_32_list\n",
    "# ['em', 'ce']"
   ]
  },
  {
   "cell_type": "code",
   "execution_count": null,
   "metadata": {},
   "outputs": [],
   "source": []
  },
  {
   "cell_type": "code",
   "execution_count": 42,
   "metadata": {},
   "outputs": [
    {
     "data": {
      "text/plain": [
       "35"
      ]
     },
     "execution_count": 42,
     "metadata": {},
     "output_type": "execute_result"
    }
   ],
   "source": [
    "# datas중에서 첫글자가 ['em', 'ce'] 시작하는 단어 filter\n",
    "filtered = datas.filter(lambda x: x[:2] in keys_32_list)\n",
    "# filtered.collect()\n",
    "# ['emaciated',\n",
    "#  'cesspool',\n",
    "#  'certainly',\n",
    "#  'certainly',\n",
    "#  'employed',\n",
    "#  'certainly',\n",
    "#  'certain',\n",
    "#  'century',\n",
    "#  'empty',\n",
    "#  'century.',\n",
    "#  'certainly',\n",
    "#  'certain',\n",
    "#  'empty',\n",
    "#  'empty',,,,]\n",
    "\n",
    "# 중복을 제거한 값 count\n",
    "filtered.distinct().count()"
   ]
  },
  {
   "cell_type": "code",
   "execution_count": null,
   "metadata": {},
   "outputs": [],
   "source": []
  }
 ],
 "metadata": {
  "kernelspec": {
   "display_name": "Python 3",
   "language": "python",
   "name": "python3"
  },
  "language_info": {
   "codemirror_mode": {
    "name": "ipython",
    "version": 3
   },
   "file_extension": ".py",
   "mimetype": "text/x-python",
   "name": "python",
   "nbconvert_exporter": "python",
   "pygments_lexer": "ipython3",
   "version": "3.6.9"
  }
 },
 "nbformat": 4,
 "nbformat_minor": 4
}
