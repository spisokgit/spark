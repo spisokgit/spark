{
 "cells": [
  {
   "cell_type": "code",
   "execution_count": null,
   "metadata": {},
   "outputs": [],
   "source": [
    "import findspark\n",
    "findspark.init()"
   ]
  },
  {
   "cell_type": "code",
   "execution_count": null,
   "metadata": {},
   "outputs": [],
   "source": [
    "from pyspark import SparkContext\n",
    "sc = SparkContext(\"local\", \"first app\")"
   ]
  },
  {
   "cell_type": "code",
   "execution_count": null,
   "metadata": {},
   "outputs": [],
   "source": [
    "import os\n",
    "path=os.getcwd()\n",
    "print(path) # home/pyspark/work\n",
    "!dir"
   ]
  },
  {
   "cell_type": "code",
   "execution_count": null,
   "metadata": {},
   "outputs": [],
   "source": [
    "from ast import literal_eval as make_tuple\n",
    "rdd = sc.textFile(\"input.txt\").map(lambda line: make_tuple(line))"
   ]
  },
  {
   "cell_type": "code",
   "execution_count": null,
   "metadata": {},
   "outputs": [],
   "source": [
    "# rdd.collect()"
   ]
  },
  {
   "cell_type": "code",
   "execution_count": null,
   "metadata": {},
   "outputs": [],
   "source": [
    "# # 데이터 전처리\n",
    "# with open(f'./input.txt', 'r', encoding='utf-8') as f:\n",
    "#     d = f.readlines()\n",
    "# # print(d[:10])\n",
    "# # print(type(d))\n",
    "\n",
    "# # 정규표현식으로 숫자 추출하여 dict타입으로 \n",
    "# import re\n",
    "# extract_nums = lambda s: re.search('\\d+', s).group(0) \n",
    "\n",
    "# key=[]\n",
    "# value=[]\n",
    "# for i in d:\n",
    "#     key.append( int(extract_nums( i.split(',')[0])) )\n",
    "#     value.append( int(extract_nums( i.split(',')[1])) )"
   ]
  },
  {
   "cell_type": "code",
   "execution_count": null,
   "metadata": {
    "scrolled": true
   },
   "outputs": [],
   "source": [
    "# rdd1 = sc.parallelize(key)\n",
    "# rdd2 = sc.parallelize(value)\n",
    "# rdd = rdd1.zip(rdd2)\n",
    "# #print(rdd.collect())"
   ]
  },
  {
   "cell_type": "code",
   "execution_count": null,
   "metadata": {},
   "outputs": [],
   "source": [
    "a=rdd.first()[0]\n",
    "a"
   ]
  },
  {
   "cell_type": "code",
   "execution_count": null,
   "metadata": {},
   "outputs": [],
   "source": [
    "# print(type(rdd.keys()))\n",
    "# print(rdd.keys().take(5))\n",
    "# print(rdd.keys().reduce(lambda a, b: max(a, b)))\n",
    "b=rdd.keys().max()\n",
    "b"
   ]
  },
  {
   "cell_type": "code",
   "execution_count": null,
   "metadata": {},
   "outputs": [],
   "source": [
    "c=rdd.values().min()\n",
    "c"
   ]
  },
  {
   "cell_type": "code",
   "execution_count": null,
   "metadata": {},
   "outputs": [],
   "source": [
    "result_dict=rdd.countByKey()\n",
    "# print(result_dict)\n",
    "d=[ v for k, v in result_dict.items() if k == 1][0]   \n",
    "print(d)\n",
    "e=[ v for k, v in result_dict.items() if k == 2][0]   \n",
    "e"
   ]
  },
  {
   "cell_type": "code",
   "execution_count": null,
   "metadata": {},
   "outputs": [],
   "source": [
    "print(a+b+c+d+e)"
   ]
  },
  {
   "cell_type": "code",
   "execution_count": null,
   "metadata": {},
   "outputs": [],
   "source": [
    "sc.stop()"
   ]
  },
  {
   "cell_type": "code",
   "execution_count": null,
   "metadata": {},
   "outputs": [],
   "source": []
  }
 ],
 "metadata": {
  "kernelspec": {
   "display_name": "Python 3",
   "language": "python",
   "name": "python3"
  },
  "language_info": {
   "codemirror_mode": {
    "name": "ipython",
    "version": 3
   },
   "file_extension": ".py",
   "mimetype": "text/x-python",
   "name": "python",
   "nbconvert_exporter": "python",
   "pygments_lexer": "ipython3",
   "version": "3.6.9"
  }
 },
 "nbformat": 4,
 "nbformat_minor": 4
}
