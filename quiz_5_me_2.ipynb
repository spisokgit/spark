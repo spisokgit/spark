{
 "cells": [
  {
   "cell_type": "markdown",
   "metadata": {},
   "source": [
    "문제1 10점   \n",
    "입력 데이터:  \n",
    "다운로드: https://github.com/nongaussian/class-2020-spark/blob/master/Week%207/input.zip  \n",
    "설명 - 영화DB사이트 (MovieLens)에서 수집된 데이터로서 u.data에는 사용자가 영화에 매긴 평점이 담겨있고  \n",
    "u.item에는 영화마다 제목, 카테고리 등의 정보가 담겨 있다.  \n",
    "  \n",
    "입력파일 1 - u.data  \n",
    "\n",
    "* 라인마다 사용자의 영화평점이 기록되어 있으며 4개의 속성 \"user id \\t item id \\t rating \\t timestamp\"가 탭으로 구분되어 작성되어 있다.  \n",
    "* (즉, split(\"\\t\") 로 자를 수 있음)  모두 integer값이다.  \n",
    "* 한 사람이 여러개의 영화에 평점을 매길 수 있으므로 같은 user id로 시작하는 라인이 복수번 나타날수 있다.  \n",
    "* item id는 아래 u.item파일에 있는 영화 아이디 (movie id)를 가리킨다 (즉, foreign key)  \n",
    "* rating은 1에서 5까지 범위이다.  \n",
    "  \n",
    "입력파일 2 - u.item  \n",
    "  \n",
    "* 라인마다 영화 정보가 기록되어 있으며 \"movie id | movie title | release date | video release date |\n",
    "* IMDb URL | unknown | Action | Adventure | Animation |\n",
    "* Children's | Comedy | Crime | Documentary | Drama | Fantasy |\n",
    "* Film-Noir | Horror | Musical | Mystery | Romance | Sci-Fi |\n",
    "* Thriller | War | Western\" 의 속성 들이 파이프라인(|)으로 구분되어 작성되어 있다.\n",
    "* 그러나 아래 문제를 보면 맨 앞의 두개 속성, movie id와 movie title 만 사용한다.\n",
    "* movie id는 이 파일 안에서 한번만 나타난다 (즉, primary key)\n",
    "  \n",
    "문제.  \n",
    "5점을 받은 영화 중에서 알파벳 'T'로 시작하는 영화의 개수는?  \n",
    "'T'는 대문자  \n",
    "주의: 5점을 받은 영화중 알파벳 'T'로 시작하는 영화를 중복해서 세지 않도록!  \n",
    "제한조건: 마지막 action으로 답이 출력되도록 코드를 작성하시오.   \n",
    "즉, 최종 답을 계산하기 위해 pyspark action이 아닌 python 코드를 사용하지 마시오.  \n"
   ]
  },
  {
   "cell_type": "code",
   "execution_count": 1,
   "metadata": {},
   "outputs": [],
   "source": [
    "import findspark\n",
    "findspark.init()\n",
    "from pyspark import SparkContext\n",
    "sc = SparkContext(\"local\", \"transformation 3\")"
   ]
  },
  {
   "cell_type": "code",
   "execution_count": 4,
   "metadata": {},
   "outputs": [
    {
     "name": "stdout",
     "output_type": "stream",
     "text": [
      "PythonRDD[6] at RDD at PythonRDD.scala:53\n"
     ]
    }
   ],
   "source": [
    "# 공백으로 구분하여 item id (movie id)와 rating만 슬라이싱하여 data로 추출한다 \n",
    "data = sc.textFile('u.data').map(lambda x: x.split(\"\\t\")[1:3])\n",
    "print(data.distinct())\n",
    "# data.collect()\n",
    "# [['242', '3'],\n",
    "#  ['302', '3'],\n",
    "#  ['377', '1'],\n",
    "#  ['51', '2'],\n",
    "#  ['346', '1'],\n",
    "#  ['474', '4'],,,,]"
   ]
  },
  {
   "cell_type": "code",
   "execution_count": 6,
   "metadata": {},
   "outputs": [],
   "source": [
    "# groupByKey()이용할 수 있지만 cgroup이용하면 동일한 효과를 볼 수 있다\n",
    "data.groupByKey().mapValues(list).collect()\n",
    "# [('242',\n",
    "#   ['3',\n",
    "#    '3',\n",
    "#    '5',\n",
    "#    '3',\n",
    "#    '5',\n",
    "#    '4',\n",
    "#    '5',"
   ]
  },
  {
   "cell_type": "code",
   "execution_count": 39,
   "metadata": {},
   "outputs": [
    {
     "data": {
      "text/plain": [
       "141"
      ]
     },
     "execution_count": 39,
     "metadata": {},
     "output_type": "execute_result"
    }
   ],
   "source": [
    "# 중복확인 # 중복확인되나  cgroup에서 정리될 것이므로 문제되지 않음\n",
    "# data.map(lambda x: (x[0], 1)).collect()\n",
    "# data.map(lambda x: (x[0], 1)).reduceByKey(lambda a, b: a + b).filter(lambda y: y[1] != 1).count() # 1541\n",
    "data.map(lambda x: (x[0], 1)).reduceByKey(lambda a, b: a + b).filter(lambda y: y[1] == 1).count() # 141"
   ]
  },
  {
   "cell_type": "code",
   "execution_count": 7,
   "metadata": {
    "scrolled": true
   },
   "outputs": [],
   "source": [
    "# |로 구분하여  movie id 와 movie title만 슬라이싱하여 item으로 추출한다 # 중복값 제거\n",
    "# item = sc.textFile('u.item').map(lambda x: x.split(\"|\")[0:2]).distinct() # error\n",
    "item = sc.textFile('u.item').map(lambda x: x.split(\"|\")[0:2])\n",
    "# item.collect()\n",
    "# [['1', 'Toy Story (1995)'],\n",
    "#  ['2', 'GoldenEye (1995)'],\n",
    "#  ['3', 'Four Rooms (1995)'],\n",
    "#  ['4', 'Get Shorty (1995)'],\n",
    "#  ['5', 'Copycat (1995)'],,,]"
   ]
  },
  {
   "cell_type": "code",
   "execution_count": 8,
   "metadata": {},
   "outputs": [
    {
     "data": {
      "text/plain": [
       "0"
      ]
     },
     "execution_count": 8,
     "metadata": {},
     "output_type": "execute_result"
    }
   ],
   "source": [
    "# 중복확인 없음\n",
    "# item.map(lambda x: (x[0], 1)).collect()\n",
    "item.map(lambda x: (x[0], 1)).reduceByKey(lambda a, b: a + b).filter(lambda y: y[1] != 1).count() # 0\n",
    "# item.map(lambda x: (x[0], 1)).reduceByKey(lambda a, b: a + b).filter(lambda y: y[1] == 1).count() # 1682"
   ]
  },
  {
   "cell_type": "code",
   "execution_count": 11,
   "metadata": {},
   "outputs": [],
   "source": [
    "# 중복확인 18개에 대해 중복제거되어야 함\n",
    "# item.map(lambda x: (x[1], 1)).collect()\n",
    "# item.map(lambda x: (x[1], 1)).reduceByKey(lambda a, b: a + b).filter(lambda y: y[1] != 1).count() # 18\n",
    "# item.map(lambda x: (x[1], 1)).reduceByKey(lambda a, b: a + b).filter(lambda y: y[1] == 1).count() # 1646\n",
    "\n",
    "item.map(lambda x: (x[1], 1)).reduceByKey(lambda a, b: a + b).filter(lambda x: x[1] != 1).collect()\n",
    "# [('Chasing Amy (1997)', 2),\n",
    "#  ('Kull the Conqueror (1997)', 2),\n",
    "#  (\"Ulee's Gold (1997)\", 2),\n",
    "#  ('Fly Away Home (1996)', 2),\n",
    "#  ('Ice Storm, The (1997)', 2),\n",
    "#  ('Deceiver (1997)', 2),\n",
    "#  ('Desperate Measures (1998)', 2),\n",
    "#  ('Body Snatchers (1993)', 2),\n",
    "#  ('Substance of Fire, The (1996)', 2),\n",
    "#  ('Money Talks (1997)', 2),\n",
    "#  ('That Darn Cat! (1997)', 2),\n",
    "#  ('Hugo Pool (1997)', 2),\n",
    "#  ('Chairman of the Board (1998)', 2),\n",
    "#  ('Designated Mourner, The (1997)', 2),\n",
    "#  ('Hurricane Streets (1998)', 2),\n",
    "#  ('Sliding Doors (1998)', 2),\n",
    "#  ('Nightwatch (1997)', 2),\n",
    "#  ('Butcher Boy, The (1998)', 2)]"
   ]
  },
  {
   "cell_type": "code",
   "execution_count": 22,
   "metadata": {},
   "outputs": [
    {
     "data": {
      "text/plain": [
       "2"
      ]
     },
     "execution_count": 22,
     "metadata": {},
     "output_type": "execute_result"
    }
   ],
   "source": [
    "# item.map(lambda x: (x[1], 1)).reduceByKey(lambda a, b: a + b).filter(lambda x: x[1] != 1 and x[0][:1] == 'T').collect()\n",
    "# [('That Darn Cat! (1997)', 2)]\n",
    "\n",
    "item.map(lambda x: (x[1], 1)).reduceByKey(lambda a, b: a + b).filter(lambda x: x[1] != 1 and x[0][:1] == 'T').keys().collect()\n",
    "# ['That Darn Cat! (1997)']\n",
    "\n",
    "# 중복된 영화(5점이상, 첫글자 'T')\n",
    "item.map(lambda x: (x[1], 1)).reduceByKey(lambda a, b: a + b).filter(lambda x: x[1] != 1 and x[0][:1] == 'T').keys().distinct()\n",
    "\n",
    "# 중복된 영화(5점이상, 첫글자 'T') 중복횟수\n",
    "duplicate_count = item.map(lambda x: (x[1], 1)).reduceByKey(lambda a, b: a + b).filter(lambda x: x[1] != 1 and x[0][:1] == 'T').values()\n",
    "duplicate_count.collect()[0]  # 2"
   ]
  },
  {
   "cell_type": "code",
   "execution_count": 24,
   "metadata": {},
   "outputs": [],
   "source": [
    "# cogroup 이용\n",
    "# groupByKey()는 동일 rdd내에서, cogroup은 다른 2개의 RDD의 key값을 중심으로 (key, tuple(lterable, lterable,,))\n",
    "rdd = item.cogroup(data).mapValues(lambda t: ( list(t[0]), list(t[1]) ))\n",
    "# rdd.collect()\n",
    "# [('1',\n",
    "#   (['Toy Story (1995)'],\n",
    "#    ['4',\n",
    "#     '5',\n",
    "#     '4',\n",
    "#     '4',\n",
    "#     '3',\n",
    "#     '4',\n",
    "#     '4',\n",
    "#     '3',\n",
    "#     '5',\n",
    "#     '3',\n",
    "#     '5',\n",
    "#     '3',\n",
    "#     '4',"
   ]
  },
  {
   "cell_type": "code",
   "execution_count": 15,
   "metadata": {},
   "outputs": [],
   "source": [
    "# move id만\n",
    "rdd.map(lambda x: x[0]).collect()\n",
    "# ['1',\n",
    "#  '4',\n",
    "#  '8',\n",
    "#  '9',\n",
    "#  '10',\n",
    "#  '12',\n",
    "#  '14',\n",
    "#  '16',\n",
    "#  '17',\n",
    "#  '19',\n",
    "#  '20',\n",
    "#  '21',"
   ]
  },
  {
   "cell_type": "code",
   "execution_count": 37,
   "metadata": {},
   "outputs": [
    {
     "data": {
      "text/plain": [
       "[('878',\n",
       "  (['That Darn Cat! (1997)'],\n",
       "   ['5',\n",
       "    '2',\n",
       "    '1',\n",
       "    '1',\n",
       "    '1',\n",
       "    '2',\n",
       "    '1',\n",
       "    '1',\n",
       "    '4',\n",
       "    '2',\n",
       "    '2',\n",
       "    '2',\n",
       "    '1',\n",
       "    '2',\n",
       "    '3',\n",
       "    '1',\n",
       "    '5',\n",
       "    '5',\n",
       "    '3',\n",
       "    '2',\n",
       "    '3',\n",
       "    '4',\n",
       "    '1',\n",
       "    '4',\n",
       "    '2',\n",
       "    '5',\n",
       "    '3',\n",
       "    '1',\n",
       "    '4',\n",
       "    '2',\n",
       "    '1',\n",
       "    '4',\n",
       "    '3'])),\n",
       " ('1003',\n",
       "  (['That Darn Cat! (1997)'], ['2', '2', '3', '1', '4', '1', '3', '2']))]"
      ]
     },
     "execution_count": 37,
     "metadata": {},
     "output_type": "execute_result"
    }
   ],
   "source": [
    "rdd.filter(lambda x : x[1][0][0] == 'That Darn Cat! (1997)').collect()"
   ]
  },
  {
   "cell_type": "code",
   "execution_count": 16,
   "metadata": {},
   "outputs": [
    {
     "data": {
      "text/plain": [
       "0"
      ]
     },
     "execution_count": 16,
     "metadata": {},
     "output_type": "execute_result"
    }
   ],
   "source": [
    "# rdd중에서 중복된 값이 있는지 확인 # 없다\n",
    "rdd.map(lambda x: (x[0], 1)).reduceByKey(lambda a, b: a + b).filter(lambda y: y[1] != 1).count()\n",
    "# 0"
   ]
  },
  {
   "cell_type": "code",
   "execution_count": 18,
   "metadata": {},
   "outputs": [],
   "source": [
    "# rating, movie title\n",
    "rdd.map(lambda x: x[1]).collect()\n",
    "# [(['Toy Story (1995)'],\n",
    "#   ['4',\n",
    "#    '5',\n",
    "#    '4',\n",
    "#    '4',\n",
    "#    '3',\n",
    "#    '4',\n",
    "#    '4',\n",
    "#    '3',"
   ]
  },
  {
   "cell_type": "code",
   "execution_count": 21,
   "metadata": {},
   "outputs": [],
   "source": [
    "rdd.map(lambda x: x[1][0]).collect()\n",
    "# [['Toy Story (1995)'],\n",
    "#  ['Get Shorty (1995)'],\n",
    "#  ['Babe (1995)'],\n",
    "#  ['Dead Man Walking (1995)'],\n",
    "#  ['Richard III (1995)'],\n",
    "#  ['Usual Suspects, The (1995)'],\n",
    "#  ['Postino, Il (1994)'],"
   ]
  },
  {
   "cell_type": "code",
   "execution_count": 23,
   "metadata": {},
   "outputs": [],
   "source": [
    "rdd.map(lambda x: x[1][1]).collect() \n",
    "# [['4',\n",
    "#   '5',\n",
    "#   '4',\n",
    "#   '4',\n",
    "#   '3',\n",
    "#   '4',\n",
    "#   '4',\n",
    "#   '3',"
   ]
  },
  {
   "cell_type": "code",
   "execution_count": 25,
   "metadata": {},
   "outputs": [],
   "source": [
    "# rdd.map(lambda x : x[1][0].contains['5']).collect() # error\n",
    "# rdd.map(lambda x: x[1][0]).filter(lambda y : y =='5' ).collect() # error\n",
    "# rdd.map(lambda x: x[1][0]).filter(lambda y : y.contains['5'] ).collect() # error\n",
    "# rdd.filter(lambda x : x[1][0].contains['5'] ).collect() # error\n",
    "# rdd.filter(lambda x : x[1][0] in '5' ).collect() # error\n",
    "# rdd.filter(lambda x : x[1][1][0:2] in 'T' ).collect() # error\n",
    "# rdd.filter(lambda x : '5' in x[1][0] and 'T' in x[1][1]).collect() # []\n",
    "\n",
    "rdd.filter(lambda x : '5' in x[1][1]).collect() \n",
    "# [('1',\n",
    "#   (['Toy Story (1995)'],\n",
    "#    ['4',\n",
    "#     '5',\n",
    "#     '4',\n",
    "#     '4',\n",
    "#     '3',\n",
    "#     '4',\n"
   ]
  },
  {
   "cell_type": "code",
   "execution_count": 28,
   "metadata": {},
   "outputs": [],
   "source": [
    "rdd.map(lambda x : x[1][0][0][0:1]).collect() \n",
    "# ['T',\n",
    "#  'G',\n",
    "#  'B',\n",
    "#  'D',\n",
    "#  'R',\n",
    "#  'U',\n",
    "#  'P',\n",
    "#  'F',\n",
    " "
   ]
  },
  {
   "cell_type": "code",
   "execution_count": 30,
   "metadata": {},
   "outputs": [],
   "source": [
    "rdd.filter(lambda x : '5' in x[1][1] and x[1][0][0][0:1] == 'T').collect()\n",
    "# [('1',\n",
    "#   (['Toy Story (1995)'],\n",
    "#    ['4',\n",
    "#     '5',\n",
    "#     '4',\n",
    "#     '4',\n",
    "#     '3',\n",
    "#     '4',\n",
    "#     '4',"
   ]
  },
  {
   "cell_type": "code",
   "execution_count": 31,
   "metadata": {},
   "outputs": [],
   "source": [
    "rdd.filter(lambda x : '5' in x[1][1] and x[1][0][0][0:1] == 'T').collect()\n",
    "# [('1',\n",
    "#   (['Toy Story (1995)'],\n",
    "#    ['4',\n",
    "#     '5',\n",
    "#     '4',\n",
    "#     '4',\n",
    "#     '3',\n",
    "#     '4',\n",
    "#     '4',\n",
    "#     '3',\n",
    "#     '5',\n",
    "\n",
    "rdd.filter(lambda x : '5' in x[1][1] and x[1][0][0][0:1] == 'T').map(lambda x: x[1][0][0]).collect()\n",
    "# ['Toy Story (1995)',\n",
    "#  'To Wong Foo, Thanks for Everything! Julie Newmar (1995)',\n",
    "#  'Three Colors: Blue (1993)',\n",
    "#  'Terminator 2: Judgment Day (1991)',\n",
    "#  'Truth About Cats & Dogs, The (1996)',\n",
    "#  'Top Gun (1986)',"
   ]
  },
  {
   "cell_type": "code",
   "execution_count": 35,
   "metadata": {},
   "outputs": [
    {
     "data": {
      "text/plain": [
       "['Toy Story (1995)',\n",
       " 'To Wong Foo, Thanks for Everything! Julie Newmar (1995)',\n",
       " 'Three Colors: Blue (1993)',\n",
       " 'Terminator 2: Judgment Day (1991)',\n",
       " 'Truth About Cats & Dogs, The (1996)',\n",
       " 'Top Gun (1986)',\n",
       " 'This Is Spinal Tap (1984)',\n",
       " 'Tin Cup (1996)',\n",
       " 'True Lies (1994)',\n",
       " 'Tales from the Crypt Presents: Bordello of Blood (1996)',\n",
       " 'Transformers: The Movie, The (1986)',\n",
       " 'Tombstone (1993)',\n",
       " 'To Catch a Thief (1955)',\n",
       " 'Third Man, The (1949)',\n",
       " 'Treasure of the Sierra Madre, The (1948)',\n",
       " 'Thin Blue Line, The (1988)',\n",
       " 'Tin Men (1987)',\n",
       " 'To Die For (1995)',\n",
       " 'Threesome (1994)',\n",
       " 'Tommy Boy (1995)',\n",
       " 'Timecop (1994)',\n",
       " 'To Gillian on Her 37th Birthday (1996)',\n",
       " 'Telling Lies in America (1997)',\n",
       " 'Tango Lesson, The (1997)',\n",
       " 'Trigger Effect, The (1996)',\n",
       " 'Turbulence (1997)',\n",
       " 'Trees Lounge (1996)',\n",
       " 'Tie Me Up! Tie Me Down! (1990)',\n",
       " 'Two if by Sea (1996)',\n",
       " 'Thin Line Between Love and Hate, A (1996)',\n",
       " 'Tank Girl (1995)',\n",
       " 'That Old Feeling (1997)',\n",
       " 'To Be or Not to Be (1942)',\n",
       " 'Twisted (1996)',\n",
       " 'Twelve Monkeys (1995)',\n",
       " 'Taxi Driver (1976)',\n",
       " 'Three Colors: Red (1994)',\n",
       " 'Three Colors: White (1994)',\n",
       " 'True Romance (1993)',\n",
       " 'Twister (1996)',\n",
       " 'Terminator, The (1984)',\n",
       " 'Turbo: A Power Rangers Movie (1997)',\n",
       " 'Time to Kill, A (1996)',\n",
       " 'Titanic (1997)',\n",
       " 'Tales From the Crypt Presents: Demon Knight (1995)',\n",
       " 'Three Musketeers, The (1993)',\n",
       " 'To Kill a Mockingbird (1962)',\n",
       " 'Trainspotting (1996)',\n",
       " 'Thin Man, The (1934)',\n",
       " 'Traveller (1997)',\n",
       " \"Things to Do in Denver when You're Dead (1995)\",\n",
       " 'True Crime (1995)',\n",
       " 'Three Caballeros, The (1945)',\n",
       " 'Tin Drum, The (Blechtrommel, Die) (1979)',\n",
       " 'Touch of Evil (1958)',\n",
       " 'Tomorrow Never Dies (1997)',\n",
       " 'Three Wishes (1995)',\n",
       " 'Thirty-Two Short Films About Glenn Gould (1993)',\n",
       " 'That Thing You Do! (1996)',\n",
       " 'Two or Three Things I Know About Her (1966)',\n",
       " 'That Darn Cat! (1997)',\n",
       " 'Thousand Acres, A (1997)',\n",
       " 'To Live (Huozhe) (1994)',\n",
       " 'Trust (1990)',\n",
       " 'Twelfth Night (1996)',\n",
       " 'They Made Me a Criminal (1939)',\n",
       " 'Truman Show, The (1998)',\n",
       " 'Tom & Viv (1994)',\n",
       " 'Top Hat (1935)',\n",
       " 'Trial and Error (1997)',\n",
       " 'Total Eclipse (1995)',\n",
       " 'The Deadly Cure (1996)',\n",
       " 'Thieves (Voleurs, Les) (1996)',\n",
       " 'Tom and Huck (1995)',\n",
       " 'Tough and Deadly (1995)']"
      ]
     },
     "execution_count": 35,
     "metadata": {},
     "output_type": "execute_result"
    }
   ],
   "source": [
    "#  (5점이상, 첫글자 'T')인 movie title 추출 \n",
    "# 그런데 중복된 'That Darn Cat! (1997)'이 중복이 나타나지 않음\n",
    "rdd.filter(lambda x : '5' in x[1][1] and x[1][0][0][0:1] == 'T').map(lambda x: x[1][0][0]).map(lambda x: x.strip()).collect()\n",
    "# ['Toy Story (1995)',\n",
    "#  'To Wong Foo, Thanks for Everything! Julie Newmar (1995)',\n",
    "#  'Three Colors: Blue (1993)',\n",
    "#  'Terminator 2: Judgment Day (1991)',\n",
    "#  'Truth About Cats & Dogs, The (1996)',\n",
    "#  'Top Gun (1986)',\n",
    "#  'This Is Spinal Tap (1984)',\n",
    "#  'Tin Cup (1996)',\n",
    "#  'True Lies (1994)',"
   ]
  },
  {
   "cell_type": "code",
   "execution_count": 33,
   "metadata": {},
   "outputs": [
    {
     "data": {
      "text/plain": [
       "75"
      ]
     },
     "execution_count": 33,
     "metadata": {},
     "output_type": "execute_result"
    }
   ],
   "source": [
    "#  (5점이상, 첫글자 'T')인 movie title 추출해서 중복제거 \n",
    "rdd.filter(lambda x : '5' in x[1][1] and x[1][0][0][0:1] == 'T').map(lambda x: x[1][0][0]).map(lambda x: x.strip()).distinct().count()"
   ]
  },
  {
   "cell_type": "code",
   "execution_count": 34,
   "metadata": {},
   "outputs": [
    {
     "data": {
      "text/plain": [
       "[]"
      ]
     },
     "execution_count": 34,
     "metadata": {},
     "output_type": "execute_result"
    }
   ],
   "source": [
    "rdd.filter(lambda x : '5' in x[1][1] and x[1][0][0][0:1] == 'T').map(lambda x: x[1][0][0]).map(lambda x: x.strip()).map(lambda x: (x,1)).reduceByKey(lambda a,b: a+b).filter(lambda x: x[1] !=1).collect()"
   ]
  },
  {
   "cell_type": "code",
   "execution_count": null,
   "metadata": {},
   "outputs": [],
   "source": []
  },
  {
   "cell_type": "code",
   "execution_count": null,
   "metadata": {},
   "outputs": [],
   "source": []
  },
  {
   "cell_type": "code",
   "execution_count": 31,
   "metadata": {},
   "outputs": [
    {
     "data": {
      "text/plain": [
       "75"
      ]
     },
     "execution_count": 31,
     "metadata": {},
     "output_type": "execute_result"
    }
   ],
   "source": [
    "type(rdd.filter(lambda x : '5' in x[1][1] and x[1][0][0][0:1] == 'T').collect()) # list\n",
    "len(rdd.filter(lambda x : '5' in x[1][1] and x[1][0][0][0:1] == 'T').collect())"
   ]
  },
  {
   "cell_type": "markdown",
   "metadata": {},
   "source": [
    "문제 2 10점  \n",
    "문제.  \n",
    "사용자들에게 1점도 받고 5점도 받은 적이 있는 영화의 제목의 길이 중 가장 긴 영화제목의 길이는?  \n",
    "  \n",
    "동일 영화가 어떤 사용자에게는 1점, 어떤 사용자에게는 5점을 받은 경우를 말함  \n",
    "힌트: cogroup을 쓸 수도 있고 groupByKey를 쓸 수도 있음.  \n",
    "제한조건: 마지막 action으로 답이 출력되도록 코드를 작성하시오.   \n",
    "즉, 최종 답을 계산하기 위해 pyspark action이 아닌 python 코드를 사용하지 마시오.  "
   ]
  },
  {
   "cell_type": "code",
   "execution_count": 38,
   "metadata": {},
   "outputs": [],
   "source": [
    "# 사용자들에게 1점도 받고 5점도 받은 적이 있는 영화\n",
    "# rdd.filter(lambda x : ('5' in x[1][1]) and ('1' in x[1][1])).collect()\n",
    "# (['Gold Diggers: The Secret of Bear Mountain (1995)'],\n",
    "#    ['2', '3', '3', '1', '4', '2', '5', '4', '4', '3'])),\n",
    "rdd_filtered_rating  = rdd.filter(lambda x : ('5' in x[1][1]) and ('1' in x[1][1]))"
   ]
  },
  {
   "cell_type": "code",
   "execution_count": 46,
   "metadata": {},
   "outputs": [],
   "source": [
    "# 영화제목(movie title) 추출\n",
    "# rdd_filtered_rating.map(lambda x: x[1][0][0]).collect()\n",
    "# ['Toy Story (1995)',\n",
    "#  'Get Shorty (1995)',\n",
    "#  'Babe (1995)',\n",
    "#  'Dead Man Walking (1995)',\n",
    "#  'Richard III (1995)',\n",
    "#  'Usual Suspects, The (1995)',\n",
    "#  'Postino, Il (1994)',\n",
    "#  'French Twist (Gazon maudit) (1995)',\n",
    "#  'From Dusk Till Dawn (1996)'\n",
    "\n",
    "# 영화제목 길이 계산\n",
    "# rdd_filtered_rating.map(lambda x: x[1][0][0]).map(lambda x: len(x)).collect()\n",
    "# [16,\n",
    "#  17,\n",
    "#  11,\n",
    "#  23,\n",
    "#  18,\n",
    "#  26,\n",
    "#  18,\n",
    "#  34,\n",
    "#  26,"
   ]
  },
  {
   "cell_type": "code",
   "execution_count": 50,
   "metadata": {},
   "outputs": [
    {
     "data": {
      "text/plain": [
       "81"
      ]
     },
     "execution_count": 50,
     "metadata": {},
     "output_type": "execute_result"
    }
   ],
   "source": [
    "# 영화제목 길이로 sortBy(내림차순)해서 처음을 추출, 길이\n",
    "len(rdd_filtered_rating.map(lambda x: x[1][0][0]).sortBy(lambda x: len(x), False).collect()[0])"
   ]
  },
  {
   "cell_type": "code",
   "execution_count": null,
   "metadata": {},
   "outputs": [],
   "source": []
  },
  {
   "cell_type": "code",
   "execution_count": null,
   "metadata": {},
   "outputs": [],
   "source": []
  }
 ],
 "metadata": {
  "kernelspec": {
   "display_name": "Python 3",
   "language": "python",
   "name": "python3"
  },
  "language_info": {
   "codemirror_mode": {
    "name": "ipython",
    "version": 3
   },
   "file_extension": ".py",
   "mimetype": "text/x-python",
   "name": "python",
   "nbconvert_exporter": "python",
   "pygments_lexer": "ipython3",
   "version": "3.6.9"
  }
 },
 "nbformat": 4,
 "nbformat_minor": 4
}
