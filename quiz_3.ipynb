{
 "cells": [
  {
   "cell_type": "markdown",
   "metadata": {},
   "source": [
    "문제 (week5 input.txt)  \n",
    "출현하는 단어의 첫 번째 두 글자의 출현빈도를 세고 출현 빈도가 32보다 작은 (미만; <) 단어들의 출현빈도의 합은?  \n",
    "\n",
    "대소문자 구별하지 않음    \n",
    "첫 두 글자를 카운트하므로 길이가 2와 같거나 보다 긴 단어만 대상으로 함    \n",
    "공백은 당연 제외    \n",
    "문장부호(, . ? ‘ “ 등)은 따로 처리하지 않음   "
   ]
  },
  {
   "cell_type": "code",
   "execution_count": 1,
   "metadata": {},
   "outputs": [],
   "source": [
    "import findspark\n",
    "findspark.init()"
   ]
  },
  {
   "cell_type": "code",
   "execution_count": 2,
   "metadata": {},
   "outputs": [],
   "source": [
    "from pyspark import SparkContext\n",
    "sc = SparkContext(\"local\", \"transformation 1\")"
   ]
  },
  {
   "cell_type": "code",
   "execution_count": 3,
   "metadata": {},
   "outputs": [],
   "source": [
    "# flatMap, filter이용 공백단어는 제거 \n",
    "readfile=sc.textFile(\"input.txt\").flatMap(lambda x: x.split(\" \")).filter(lambda x: x !=\"\")"
   ]
  },
  {
   "cell_type": "code",
   "execution_count": 4,
   "metadata": {},
   "outputs": [],
   "source": [
    "# 단어중 첫글자에 공백 있을 수 있어 제외  # 1문자인 것은 제외, 두 글자이상만 \n",
    "datas=readfile.map(lambda x: x.strip()).filter(lambda x: len(x)>=2)"
   ]
  },
  {
   "cell_type": "code",
   "execution_count": 5,
   "metadata": {},
   "outputs": [],
   "source": [
    "# 첫번째 두글자만 추출(slicing) 한 list 생성\n",
    "keys = datas.map(lambda x : x[:2])"
   ]
  },
  {
   "cell_type": "code",
   "execution_count": 6,
   "metadata": {},
   "outputs": [],
   "source": [
    "# 대소문자구별하지 않으므로 소문자로 변경\n",
    "keys_lower = keys.map(lambda x: x.lower())"
   ]
  },
  {
   "cell_type": "code",
   "execution_count": 9,
   "metadata": {},
   "outputs": [],
   "source": [
    "# reduceByKey() 적용\n",
    "keys_tuple_reducebykey = keys_lower.map(lambda x:(x, 1)).reduceByKey(lambda a,b : a+b)"
   ]
  },
  {
   "cell_type": "code",
   "execution_count": 10,
   "metadata": {},
   "outputs": [],
   "source": [
    "# filter 적용\n",
    "data_filtered_32 = keys_tuple_reducebykey.filter(lambda v: v[1] < 32)"
   ]
  },
  {
   "cell_type": "code",
   "execution_count": 11,
   "metadata": {},
   "outputs": [
    {
     "data": {
      "text/plain": [
       "830"
      ]
     },
     "execution_count": 11,
     "metadata": {},
     "output_type": "execute_result"
    }
   ],
   "source": [
    "type(data_filtered_32.values().collect()) # list\n",
    "sum (data_filtered_32.values().collect())"
   ]
  },
  {
   "cell_type": "code",
   "execution_count": null,
   "metadata": {},
   "outputs": [],
   "source": [
    "sc.stop()"
   ]
  }
 ],
 "metadata": {
  "kernelspec": {
   "display_name": "Python 3",
   "language": "python",
   "name": "python3"
  },
  "language_info": {
   "codemirror_mode": {
    "name": "ipython",
    "version": 3
   },
   "file_extension": ".py",
   "mimetype": "text/x-python",
   "name": "python",
   "nbconvert_exporter": "python",
   "pygments_lexer": "ipython3",
   "version": "3.6.9"
  }
 },
 "nbformat": 4,
 "nbformat_minor": 4
}
