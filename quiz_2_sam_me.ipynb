{
 "cells": [
  {
   "cell_type": "code",
   "execution_count": 7,
   "metadata": {},
   "outputs": [],
   "source": [
    "sc.stop()"
   ]
  },
  {
   "cell_type": "markdown",
   "metadata": {},
   "source": [
    "입력데이터  \n",
    "* 위치: <github>/nongaussian/class-2020-spark\n",
    "* 파일: Week 4/input.txt (List of integer pairs)\n",
    "## 문제¶\n",
    "Input.txt를 RDD로 읽어  \n",
    "\n",
    "* 첫 pair의 first element값\n",
    "* 모든 pair의 first element 중에 max값\n",
    "* 모든 pair의 second element 중에 min값\n",
    "* First element가 1인 pair의 개수\n",
    "* First element가 2인 pair의 개수\n",
    "를 모두 더하시오.  \n",
    "\n",
    "힌트: input.txt를 읽어 RDD를 생성하는 법  \n",
    "\n",
    "from ast import literal_eval as make_tuple  \n",
    "\n",
    "input_rdd = sc.textFile(\"input.txt\").map(lambda line: make_tuple(line))</code>  "
   ]
  },
  {
   "cell_type": "code",
   "execution_count": 8,
   "metadata": {},
   "outputs": [],
   "source": [
    "import findspark\n",
    "findspark.init()\n",
    "\n",
    "from pyspark import SparkContext\n",
    "sc = SparkContext(\"local\", \"action quiz\")"
   ]
  },
  {
   "cell_type": "code",
   "execution_count": 9,
   "metadata": {},
   "outputs": [],
   "source": [
    "from ast import literal_eval as make_tuple\n",
    "input_rdd = sc.textFile(\"input.txt\").map(lambda line: make_tuple(line))"
   ]
  },
  {
   "cell_type": "code",
   "execution_count": 13,
   "metadata": {},
   "outputs": [
    {
     "data": {
      "text/plain": [
       "[(2, 96), (19, 78), (13, 83), (17, 78), (32, 86)]"
      ]
     },
     "execution_count": 13,
     "metadata": {},
     "output_type": "execute_result"
    }
   ],
   "source": [
    "input_rdd.take(5)"
   ]
  },
  {
   "cell_type": "code",
   "execution_count": 10,
   "metadata": {},
   "outputs": [
    {
     "name": "stdout",
     "output_type": "stream",
     "text": [
      "2\n"
     ]
    }
   ],
   "source": [
    "# 첫 pair의 first element값\n",
    "val1 = input_rdd.first()[0]\n",
    "print(val1)"
   ]
  },
  {
   "cell_type": "code",
   "execution_count": 11,
   "metadata": {},
   "outputs": [
    {
     "name": "stdout",
     "output_type": "stream",
     "text": [
      "32\n"
     ]
    }
   ],
   "source": [
    "# 모든 pair의 first element 중에 max값\n",
    "val2 = input_rdd.reduce(lambda a, b: a if a[0] > b[0] else b)[0]\n",
    "print(val2)"
   ]
  },
  {
   "cell_type": "code",
   "execution_count": 12,
   "metadata": {},
   "outputs": [
    {
     "name": "stdout",
     "output_type": "stream",
     "text": [
      "50\n"
     ]
    }
   ],
   "source": [
    "# 모든 pair의 second element 중에 min값\n",
    "val3 = input_rdd.reduce(lambda a, b: a if a[1] < b[1] else b)[1]\n",
    "print(val3)"
   ]
  },
  {
   "cell_type": "code",
   "execution_count": 16,
   "metadata": {},
   "outputs": [
    {
     "name": "stdout",
     "output_type": "stream",
     "text": [
      "defaultdict(<class 'int'>, {2: 28, 19: 32, 13: 28, 17: 36, 32: 30, 26: 31, 7: 24, 24: 33, 22: 36, 4: 26, 9: 30, 25: 43, 20: 22, 12: 41, 10: 31, 18: 27, 29: 22, 0: 37, 23: 34, 21: 23, 15: 25, 5: 29, 27: 34, 31: 31, 1: 31, 11: 39, 30: 32, 28: 36, 3: 28, 6: 25, 14: 28, 16: 22, 8: 26})\n",
      "31\n",
      "28\n"
     ]
    }
   ],
   "source": [
    "# First element가 1인 pair의 개수\n",
    "# First element가 2인 pair의 개수 를 모두 더하시오.\n",
    "tmp = input_rdd.countByKey()\n",
    "print(tmp)\n",
    "val4 = tmp[1]\n",
    "val5 = tmp[2]\n",
    "print(val4)\n",
    "print(val5)"
   ]
  },
  {
   "cell_type": "code",
   "execution_count": 15,
   "metadata": {},
   "outputs": [
    {
     "name": "stdout",
     "output_type": "stream",
     "text": [
      "143\n"
     ]
    }
   ],
   "source": [
    "print(val1+val2+val3+val4+val5)"
   ]
  },
  {
   "cell_type": "code",
   "execution_count": null,
   "metadata": {},
   "outputs": [],
   "source": [
    "sc.stop()"
   ]
  }
 ],
 "metadata": {
  "kernelspec": {
   "display_name": "Python 3",
   "language": "python",
   "name": "python3"
  },
  "language_info": {
   "codemirror_mode": {
    "name": "ipython",
    "version": 3
   },
   "file_extension": ".py",
   "mimetype": "text/x-python",
   "name": "python",
   "nbconvert_exporter": "python",
   "pygments_lexer": "ipython3",
   "version": "3.6.9"
  }
 },
 "nbformat": 4,
 "nbformat_minor": 4
}
