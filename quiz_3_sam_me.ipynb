{
 "cells": [
  {
   "cell_type": "markdown",
   "metadata": {},
   "source": [
    "## 입력 데이터¶\n",
    "* 위치: Week 5/input.zip\n",
    "* 파일: input5.txt\n",
    "## 문제\n",
    "출현하는 단어의 첫 번째 두 글자의 출현빈도를 세고 출현 빈도가 32보다 작은 (미만; <) 단어들의 출현빈도의 합을 계산하시오.  \n",
    "\n",
    "## 주의\n",
    "* 대소문자 구별하지 않음\n",
    "* 첫 두 글자를 카운트하므로 길이가 2와 같거나 보다 긴 단어만 대상으로 함\n",
    "* 공백은 제외\n",
    "* 문장부호(, . ? ‘ “ 등)은 따로 처리하지 않음"
   ]
  },
  {
   "cell_type": "code",
   "execution_count": 1,
   "metadata": {},
   "outputs": [],
   "source": [
    "import findspark\n",
    "findspark.init()\n",
    "from pyspark import SparkContext\n",
    "sc = SparkContext(\"local\", \"quiz trans 1\")"
   ]
  },
  {
   "cell_type": "code",
   "execution_count": 2,
   "metadata": {},
   "outputs": [],
   "source": [
    "input_rdd = sc.textFile(\"input5.txt\")"
   ]
  },
  {
   "cell_type": "code",
   "execution_count": 4,
   "metadata": {},
   "outputs": [
    {
     "data": {
      "text/plain": [
       "['STUDY', 'IN', 'SCARLET.', 'PART', 'I.']"
      ]
     },
     "execution_count": 4,
     "metadata": {},
     "output_type": "execute_result"
    }
   ],
   "source": [
    "flatten_rdd = input_rdd.flatMap(lambda line: line.split(' ')).filter(lambda x: len(x)>=2)\n",
    "# sc.textFile(\"input.txt\").flatMap(lambda x: x.split(\" \")).filter(lambda x: x !=\"\")\n",
    "# datas=readfile.map(lambda x: x.strip()).filter(lambda x: len(x)>=2)\n",
    "flatten_rdd.take(5)"
   ]
  },
  {
   "cell_type": "code",
   "execution_count": 6,
   "metadata": {},
   "outputs": [
    {
     "data": {
      "text/plain": [
       "[('ST', 515), ('IN', 1076), ('SC', 70), ('PA', 188), ('I.', 9)]"
      ]
     },
     "execution_count": 6,
     "metadata": {},
     "output_type": "execute_result"
    }
   ],
   "source": [
    "# 첫번째 두글자만 slicing +  대문자 처리  + tuple + reduceByKey \n",
    "# reduceByKey : key값으로 value연산을 해서 새로운 rdd 리턴\n",
    "count_rdd = flatten_rdd.map(lambda w: (w[:2].upper(), 1)).reduceByKey(lambda x, y: x+y)\n",
    "count_rdd.take(5)"
   ]
  },
  {
   "cell_type": "code",
   "execution_count": 8,
   "metadata": {},
   "outputs": [
    {
     "data": {
      "text/plain": [
       "[('I.', 9), ('(B', 1), ('H.', 2), ('M.', 2), ('18', 2)]"
      ]
     },
     "execution_count": 8,
     "metadata": {},
     "output_type": "execute_result"
    }
   ],
   "source": [
    "filtered_count_rdd = count_rdd.filter(lambda x: x[1] < 32)\n",
    "filtered_count_rdd.take(5)"
   ]
  },
  {
   "cell_type": "code",
   "execution_count": 9,
   "metadata": {},
   "outputs": [
    {
     "name": "stdout",
     "output_type": "stream",
     "text": [
      "830\n"
     ]
    }
   ],
   "source": [
    "# reduce : action\n",
    "res = filtered_count_rdd.map(lambda x: x[1]).reduce(lambda x, y: x+y)\n",
    "print(res)"
   ]
  },
  {
   "cell_type": "code",
   "execution_count": null,
   "metadata": {},
   "outputs": [],
   "source": []
  }
 ],
 "metadata": {
  "kernelspec": {
   "display_name": "Python 3",
   "language": "python",
   "name": "python3"
  },
  "language_info": {
   "codemirror_mode": {
    "name": "ipython",
    "version": 3
   },
   "file_extension": ".py",
   "mimetype": "text/x-python",
   "name": "python",
   "nbconvert_exporter": "python",
   "pygments_lexer": "ipython3",
   "version": "3.6.9"
  }
 },
 "nbformat": 4,
 "nbformat_minor": 4
}
