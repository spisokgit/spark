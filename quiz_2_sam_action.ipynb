{
 "cells": [
  {
   "cell_type": "markdown",
   "metadata": {},
   "source": [
    "### 입력데이터 \n",
    "\n",
    "* 위치: &lt;github&gt;/nongaussian/class-2020-spark\n",
    "* 파일: Week 4/input.txt (List of integer pairs)\n",
    "\n",
    "\n",
    "\n",
    "### 문제\n",
    "\n",
    "Input.txt를 RDD로 읽어\n",
    "\n",
    "* 첫 pair의 first element값\n",
    "* 모든 pair의 first element 중에 max값\n",
    "* 모든 pair의 second element 중에 min값\n",
    "* First element가 1인 pair의 개수\n",
    "* First element가 2인 pair의 개수\n",
    "\n",
    "를 모두 더하시오.\n",
    "\n",
    "\n",
    "*힌트: input.txt를 읽어 RDD를 생성하는 법*\n",
    "\n",
    "<code>from ast import literal_eval as make_tuple\n",
    "\n",
    "input_rdd = sc.textFile(\"input.txt\").map(lambda line: make_tuple(line))</code>"
   ]
  },
  {
   "cell_type": "code",
   "execution_count": 1,
   "metadata": {},
   "outputs": [],
   "source": [
    "import findspark\n",
    "findspark.init()\n",
    "\n",
    "from pyspark import SparkContext\n",
    "sc = SparkContext(\"local\", \"action quiz\")"
   ]
  },
  {
   "cell_type": "code",
   "execution_count": 6,
   "metadata": {},
   "outputs": [],
   "source": [
    "from ast import literal_eval as make_tuple"
   ]
  },
  {
   "cell_type": "code",
   "execution_count": 13,
   "metadata": {},
   "outputs": [],
   "source": [
    "input_rdd = sc.textFile(\"input.txt\").map(lambda line: make_tuple(line))"
   ]
  },
  {
   "cell_type": "code",
   "execution_count": 14,
   "metadata": {},
   "outputs": [
    {
     "name": "stdout",
     "output_type": "stream",
     "text": [
      "2\n"
     ]
    }
   ],
   "source": [
    "val1 = input_rdd.first()[0]\n",
    "print(val1)"
   ]
  },
  {
   "cell_type": "code",
   "execution_count": 16,
   "metadata": {},
   "outputs": [
    {
     "name": "stdout",
     "output_type": "stream",
     "text": [
      "32\n"
     ]
    }
   ],
   "source": [
    "val2 = input_rdd.reduce(lambda a, b: a if a[0] > b[0] else b)[0]\n",
    "print(val2)"
   ]
  },
  {
   "cell_type": "code",
   "execution_count": 17,
   "metadata": {},
   "outputs": [
    {
     "name": "stdout",
     "output_type": "stream",
     "text": [
      "50\n"
     ]
    }
   ],
   "source": [
    "val3 = input_rdd.reduce(lambda a, b: a if a[1] < b[1] else b)[1]\n",
    "print(val3)"
   ]
  },
  {
   "cell_type": "code",
   "execution_count": 18,
   "metadata": {},
   "outputs": [
    {
     "name": "stdout",
     "output_type": "stream",
     "text": [
      "31\n",
      "28\n"
     ]
    }
   ],
   "source": [
    "tmp = input_rdd.countByKey()\n",
    "val4 = tmp[1]\n",
    "val5 = tmp[2]\n",
    "print(val4)\n",
    "print(val5)"
   ]
  },
  {
   "cell_type": "code",
   "execution_count": 19,
   "metadata": {},
   "outputs": [
    {
     "name": "stdout",
     "output_type": "stream",
     "text": [
      "143\n"
     ]
    }
   ],
   "source": [
    "print(val1 + val2 + val3 + val4 + val5)"
   ]
  },
  {
   "cell_type": "code",
   "execution_count": 20,
   "metadata": {},
   "outputs": [],
   "source": [
    "sc.stop()"
   ]
  },
  {
   "cell_type": "code",
   "execution_count": null,
   "metadata": {},
   "outputs": [],
   "source": []
  }
 ],
 "metadata": {
  "kernelspec": {
   "display_name": "Python 3",
   "language": "python",
   "name": "python3"
  },
  "language_info": {
   "codemirror_mode": {
    "name": "ipython",
    "version": 3
   },
   "file_extension": ".py",
   "mimetype": "text/x-python",
   "name": "python",
   "nbconvert_exporter": "python",
   "pygments_lexer": "ipython3",
   "version": "3.6.9"
  }
 },
 "nbformat": 4,
 "nbformat_minor": 4
}
