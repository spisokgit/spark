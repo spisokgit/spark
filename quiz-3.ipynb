{
 "cells": [
  {
   "cell_type": "code",
   "execution_count": 1,
   "metadata": {},
   "outputs": [],
   "source": [
    "import findspark\n",
    "findspark.init()"
   ]
  },
  {
   "cell_type": "code",
   "execution_count": 2,
   "metadata": {},
   "outputs": [],
   "source": [
    "from pyspark import SparkContext\n",
    "sc = SparkContext(\"local\", \"transformation\")"
   ]
  },
  {
   "cell_type": "code",
   "execution_count": 3,
   "metadata": {},
   "outputs": [],
   "source": [
    "# flatMap, filter이용 공백단어는 제거 \n",
    "readfile=sc.textFile(\"input.txt\").flatMap(lambda x: x.split(\" \")).filter(lambda x: x !=\"\")\n",
    "# ['A',\n",
    "#  'STUDY',\n",
    "#  'IN',\n",
    "#  'SCARLET.',\n",
    "#  'PART',\n",
    "#  'I.',\n",
    "#  '(Being',\n",
    "#  'a',,,,]\n",
    "\n",
    "# readfile.collect()"
   ]
  },
  {
   "cell_type": "code",
   "execution_count": 4,
   "metadata": {},
   "outputs": [],
   "source": [
    "# 한 글자인 것은 제외, 두 글자이상만 \n",
    "datas=readfile.filter(lambda x: len(x)>=2)\n",
    "# ['STUDY',\n",
    "#  'IN',\n",
    "#  'SCARLET.',\n",
    "#  'PART',,,,]\n",
    "\n",
    "# datas.collect()"
   ]
  },
  {
   "cell_type": "code",
   "execution_count": 5,
   "metadata": {},
   "outputs": [],
   "source": [
    "# 첫번째 두글자만 추출(slicing)하고 count 위한 key, value 쌍으로\n",
    "data_tuple = datas.map(lambda x : x[:2]).map(lambda v: (v, 1))\n",
    "# [('ST', 1),\n",
    "#  ('IN', 1),\n",
    "#  ('SC', 1),\n",
    "#  ('PA', 1),\n",
    "#  ('I.', 1),\n",
    "#  ('(B', 1),\n",
    "#  ('re', 1),\n",
    "#  ('fr', 1),\n",
    "#  ('th', 1),\n",
    "#  ('re', 1),,,]\n",
    "\n",
    "# data_tuple.collect()"
   ]
  },
  {
   "cell_type": "code",
   "execution_count": 6,
   "metadata": {},
   "outputs": [],
   "source": [
    "# reduceByKey() 이용 key에 해당하는 value 합\n",
    "data_reducebykey= data_tuple.reduceByKey(lambda a,b : a+b)\n",
    "# [('ST', 1),\n",
    "#  ('IN', 4),\n",
    "#  ('SC', 2),\n",
    "#  ('PA', 2),\n",
    "#  ('I.', 9),\n",
    "#  ('(B', 1),\n",
    "#  ('re', 455),,,,]\n",
    "\n",
    "#data_reducebykey.collect()"
   ]
  },
  {
   "cell_type": "code",
   "execution_count": 7,
   "metadata": {},
   "outputs": [],
   "source": [
    "# key, value에서 value에 filter # value [1] important\n",
    "data_filtered = data_reducebykey.filter(lambda v: v[1] <= 32)\n",
    "# [('ST', 1),\n",
    "#  ('IN', 4),\n",
    "#  ('SC', 2),\n",
    "#  ('PA', 2),\n",
    "#  ('I.', 9),\n",
    "#  ('(B', 1),\n",
    "#  ('JO', 5),\n",
    "#  ('H.', 2),\n",
    "#  ('WA', 2),\n",
    "#  ('M.', 2),\n",
    "#  ('Ar', 9),,,]\n",
    "\n",
    "# data_filtered.collect()"
   ]
  },
  {
   "cell_type": "code",
   "execution_count": 8,
   "metadata": {},
   "outputs": [],
   "source": [
    "#  두글자 count 값이 32보다 작은 값 filter\n",
    "data_filtered_values=data_filtered.values()\n",
    "# [1,\n",
    "#  4,\n",
    "#  2,\n",
    "#  2,\n",
    "#  9,\n",
    "#  1,,,,]\n",
    "\n",
    "# data_filtered_values.collect()"
   ]
  },
  {
   "cell_type": "code",
   "execution_count": 9,
   "metadata": {},
   "outputs": [
    {
     "name": "stdout",
     "output_type": "stream",
     "text": [
      "2214\n"
     ]
    }
   ],
   "source": [
    "sum = 0\n",
    "for n in data_filtered_values.collect(): \n",
    "    sum += n\n",
    "print(sum)"
   ]
  },
  {
   "cell_type": "code",
   "execution_count": null,
   "metadata": {},
   "outputs": [],
   "source": [
    "sc.stop()"
   ]
  },
  {
   "cell_type": "code",
   "execution_count": null,
   "metadata": {},
   "outputs": [],
   "source": []
  }
 ],
 "metadata": {
  "kernelspec": {
   "display_name": "Python 3",
   "language": "python",
   "name": "python3"
  },
  "language_info": {
   "codemirror_mode": {
    "name": "ipython",
    "version": 3
   },
   "file_extension": ".py",
   "mimetype": "text/x-python",
   "name": "python",
   "nbconvert_exporter": "python",
   "pygments_lexer": "ipython3",
   "version": "3.6.9"
  }
 },
 "nbformat": 4,
 "nbformat_minor": 4
}
