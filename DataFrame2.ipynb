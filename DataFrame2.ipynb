{
 "cells": [
  {
   "cell_type": "code",
   "execution_count": 1,
   "metadata": {},
   "outputs": [],
   "source": [
    "import findspark\n",
    "findspark.init()\n",
    "\n",
    "# create spark session\n",
    "from pyspark.sql import SparkSession\n",
    "spark = SparkSession.builder.appName(\"my app\").master(\"local\").getOrCreate()\n",
    "\n",
    "# get context from the session\n",
    "sc = spark.sparkContext"
   ]
  },
  {
   "cell_type": "code",
   "execution_count": 2,
   "metadata": {},
   "outputs": [],
   "source": [
    "person = spark.createDataFrame([\n",
    "    (0, \"Bill Chambers\", 0, [100]),\n",
    "    (1, \"Matei Zaharia\", 1, [500, 250, 100]),\n",
    "    (2, \"Michael Armbrust\", 1, [250, 100])\n",
    "]).toDF(\"id\", \"name\", \"graduate_program\", \"current_status\")\n",
    "\n",
    "graduateProgram = spark.createDataFrame([\n",
    "    (0, \"masters\", \"school of information\", \"UC Berkeley\"),\n",
    "    (1, \"masters\", \"CS\", \"Hanyang Univ\"),\n",
    "    (2, \"Ph.D.\", \"CS\", \"Hanyang Univ\")\n",
    "]).toDF(\"id\", \"degree\", \"department\", \"school\")\n",
    "\n",
    "currentStatus = spark.createDataFrame([\n",
    "    (500, \"Vice President\"),\n",
    "    (250, \"Senior Programmer\"),\n",
    "    (100, \"Junior Programmer\")\n",
    "]).toDF(\"id\", \"status\")"
   ]
  },
  {
   "cell_type": "code",
   "execution_count": 3,
   "metadata": {},
   "outputs": [
    {
     "name": "stdout",
     "output_type": "stream",
     "text": [
      "+---+----------------+----------------+---------------+\n",
      "| id|            name|graduate_program| current_status|\n",
      "+---+----------------+----------------+---------------+\n",
      "|  0|   Bill Chambers|               0|          [100]|\n",
      "|  1|   Matei Zaharia|               1|[500, 250, 100]|\n",
      "|  2|Michael Armbrust|               1|     [250, 100]|\n",
      "+---+----------------+----------------+---------------+\n",
      "\n"
     ]
    }
   ],
   "source": [
    "person.show()"
   ]
  },
  {
   "cell_type": "code",
   "execution_count": 4,
   "metadata": {},
   "outputs": [
    {
     "name": "stdout",
     "output_type": "stream",
     "text": [
      "+---+-------+--------------------+------------+\n",
      "| id| degree|          department|      school|\n",
      "+---+-------+--------------------+------------+\n",
      "|  0|masters|school of informa...| UC Berkeley|\n",
      "|  1|masters|                  CS|Hanyang Univ|\n",
      "|  2|  Ph.D.|                  CS|Hanyang Univ|\n",
      "+---+-------+--------------------+------------+\n",
      "\n"
     ]
    }
   ],
   "source": [
    "graduateProgram.show()"
   ]
  },
  {
   "cell_type": "code",
   "execution_count": 5,
   "metadata": {},
   "outputs": [
    {
     "name": "stdout",
     "output_type": "stream",
     "text": [
      "+---+-----------------+\n",
      "| id|           status|\n",
      "+---+-----------------+\n",
      "|500|   Vice President|\n",
      "|250|Senior Programmer|\n",
      "|100|Junior Programmer|\n",
      "+---+-----------------+\n",
      "\n"
     ]
    }
   ],
   "source": [
    "currentStatus.show()"
   ]
  },
  {
   "cell_type": "markdown",
   "metadata": {},
   "source": [
    "### filter(condition)\n",
    "Filters rows using the given condition.\n",
    "\n",
    "where() is an alias for filter().\n",
    "\n",
    "Parameters\n",
    "* condition – a Column of types.BooleanType or a string of SQL expression."
   ]
  },
  {
   "cell_type": "code",
   "execution_count": 6,
   "metadata": {},
   "outputs": [
    {
     "data": {
      "text/plain": [
       "Column<b'graduate_program'>"
      ]
     },
     "execution_count": 6,
     "metadata": {},
     "output_type": "execute_result"
    }
   ],
   "source": [
    "person[\"graduate_program\"]"
   ]
  },
  {
   "cell_type": "code",
   "execution_count": 7,
   "metadata": {
    "scrolled": true
   },
   "outputs": [
    {
     "name": "stdout",
     "output_type": "stream",
     "text": [
      "+---+----------------+----------------+---------------+\n",
      "| id|            name|graduate_program| current_status|\n",
      "+---+----------------+----------------+---------------+\n",
      "|  1|   Matei Zaharia|               1|[500, 250, 100]|\n",
      "|  2|Michael Armbrust|               1|     [250, 100]|\n",
      "+---+----------------+----------------+---------------+\n",
      "\n"
     ]
    }
   ],
   "source": [
    "person.filter(person[\"graduate_program\"] == 1).show()"
   ]
  },
  {
   "cell_type": "code",
   "execution_count": 8,
   "metadata": {},
   "outputs": [
    {
     "name": "stdout",
     "output_type": "stream",
     "text": [
      "+---+----------------+----------------+---------------+\n",
      "| id|            name|graduate_program| current_status|\n",
      "+---+----------------+----------------+---------------+\n",
      "|  1|   Matei Zaharia|               1|[500, 250, 100]|\n",
      "|  2|Michael Armbrust|               1|     [250, 100]|\n",
      "+---+----------------+----------------+---------------+\n",
      "\n"
     ]
    }
   ],
   "source": [
    "from pyspark.sql.functions import *\n",
    "person.filter(expr(\"graduate_program = 1\")).show()"
   ]
  },
  {
   "cell_type": "code",
   "execution_count": 9,
   "metadata": {},
   "outputs": [
    {
     "name": "stdout",
     "output_type": "stream",
     "text": [
      "+---+----------------+----------------+---------------+\n",
      "| id|            name|graduate_program| current_status|\n",
      "+---+----------------+----------------+---------------+\n",
      "|  1|   Matei Zaharia|               1|[500, 250, 100]|\n",
      "|  2|Michael Armbrust|               1|     [250, 100]|\n",
      "+---+----------------+----------------+---------------+\n",
      "\n"
     ]
    }
   ],
   "source": [
    "person.filter(col(\"graduate_program\") == 1).show()"
   ]
  },
  {
   "cell_type": "markdown",
   "metadata": {},
   "source": [
    "### distinct() # 전체 row가 일치되어야 제외\n",
    "Returns a new DataFrame containing the distinct rows in this DataFrame."
   ]
  },
  {
   "cell_type": "code",
   "execution_count": 10,
   "metadata": {
    "scrolled": true
   },
   "outputs": [
    {
     "name": "stdout",
     "output_type": "stream",
     "text": [
      "+---+----------------+----------------+---------------+\n",
      "| id|            name|graduate_program| current_status|\n",
      "+---+----------------+----------------+---------------+\n",
      "|  2|Michael Armbrust|               1|     [250, 100]|\n",
      "|  1|   Matei Zaharia|               1|[500, 250, 100]|\n",
      "|  0|   Bill Chambers|               0|          [100]|\n",
      "+---+----------------+----------------+---------------+\n",
      "\n"
     ]
    }
   ],
   "source": [
    "person.distinct().show()"
   ]
  },
  {
   "cell_type": "code",
   "execution_count": 11,
   "metadata": {},
   "outputs": [
    {
     "name": "stdout",
     "output_type": "stream",
     "text": [
      "+----------------+\n",
      "|graduate_program|\n",
      "+----------------+\n",
      "|               0|\n",
      "|               1|\n",
      "+----------------+\n",
      "\n"
     ]
    }
   ],
   "source": [
    "person.select(\"graduate_program\").distinct().show()"
   ]
  },
  {
   "cell_type": "markdown",
   "metadata": {},
   "source": [
    "### join(other, on=None, how=None)\n",
    "Joins with another DataFrame, using the given join expression.\n",
    "\n",
    "Parameters\n",
    "* other – Right side of the join\n",
    "* on – a string for the join column name, a list of column names, a join expression (Column), or a list of Columns. If on is a string or a list of strings indicating the name of the join column(s), the column(s) must exist on both sides, and this performs an equi-join.\n",
    "* how – str, default inner. Must be one of: inner, cross, outer, full, full_outer, left, left_outer, right, right_outer, left_semi, and left_anti."
   ]
  },
  {
   "cell_type": "code",
   "execution_count": 12,
   "metadata": {},
   "outputs": [
    {
     "name": "stdout",
     "output_type": "stream",
     "text": [
      "+---+----------------+----------------+---------------+\n",
      "| id|            name|graduate_program| current_status|\n",
      "+---+----------------+----------------+---------------+\n",
      "|  0|   Bill Chambers|               0|          [100]|\n",
      "|  1|   Matei Zaharia|               1|[500, 250, 100]|\n",
      "|  2|Michael Armbrust|               1|     [250, 100]|\n",
      "+---+----------------+----------------+---------------+\n",
      "\n",
      "+---+-------+--------------------+------------+\n",
      "| id| degree|          department|      school|\n",
      "+---+-------+--------------------+------------+\n",
      "|  0|masters|school of informa...| UC Berkeley|\n",
      "|  1|masters|                  CS|Hanyang Univ|\n",
      "|  2|  Ph.D.|                  CS|Hanyang Univ|\n",
      "+---+-------+--------------------+------------+\n",
      "\n"
     ]
    }
   ],
   "source": [
    "person.show()\n",
    "graduateProgram.show()"
   ]
  },
  {
   "cell_type": "code",
   "execution_count": 13,
   "metadata": {},
   "outputs": [
    {
     "name": "stdout",
     "output_type": "stream",
     "text": [
      "+---+----------------+----------------+---------------+---+-------+--------------------+------------+\n",
      "| id|            name|graduate_program| current_status| id| degree|          department|      school|\n",
      "+---+----------------+----------------+---------------+---+-------+--------------------+------------+\n",
      "|  0|   Bill Chambers|               0|          [100]|  0|masters|school of informa...| UC Berkeley|\n",
      "|  1|   Matei Zaharia|               1|[500, 250, 100]|  1|masters|                  CS|Hanyang Univ|\n",
      "|  2|Michael Armbrust|               1|     [250, 100]|  1|masters|                  CS|Hanyang Univ|\n",
      "+---+----------------+----------------+---------------+---+-------+--------------------+------------+\n",
      "\n"
     ]
    }
   ],
   "source": [
    "# foreign key == primary key\n",
    "person.join(graduateProgram, person[\"graduate_program\"] == graduateProgram[\"id\"], \"inner\").show()"
   ]
  },
  {
   "cell_type": "markdown",
   "metadata": {},
   "source": [
    "#### join이후 select"
   ]
  },
  {
   "cell_type": "code",
   "execution_count": 14,
   "metadata": {},
   "outputs": [
    {
     "name": "stdout",
     "output_type": "stream",
     "text": [
      "+----------------+-------+------------+\n",
      "|            name| degree|      school|\n",
      "+----------------+-------+------------+\n",
      "|   Bill Chambers|masters| UC Berkeley|\n",
      "|   Matei Zaharia|masters|Hanyang Univ|\n",
      "|Michael Armbrust|masters|Hanyang Univ|\n",
      "+----------------+-------+------------+\n",
      "\n"
     ]
    }
   ],
   "source": [
    "person.join(graduateProgram, person[\"graduate_program\"] == graduateProgram[\"id\"], \"inner\").select(\"name\", \"degree\", \"school\").show()"
   ]
  },
  {
   "cell_type": "code",
   "execution_count": 15,
   "metadata": {},
   "outputs": [
    {
     "name": "stdout",
     "output_type": "stream",
     "text": [
      "+----------------+-------+------------+\n",
      "|            name| degree|      school|\n",
      "+----------------+-------+------------+\n",
      "|   Bill Chambers|masters| UC Berkeley|\n",
      "|   Matei Zaharia|masters|Hanyang Univ|\n",
      "|Michael Armbrust|masters|Hanyang Univ|\n",
      "+----------------+-------+------------+\n",
      "\n"
     ]
    }
   ],
   "source": [
    "person.select(\"name\", \"graduate_program\")\\\n",
    ".join(graduateProgram.select(\"id\", \"degree\", \"school\"), person[\"graduate_program\"] == graduateProgram[\"id\"], \"inner\")\\\n",
    ".select(\"name\", \"degree\", \"school\").show()"
   ]
  },
  {
   "cell_type": "code",
   "execution_count": 17,
   "metadata": {},
   "outputs": [
    {
     "name": "stdout",
     "output_type": "stream",
     "text": [
      "+----+----------------+----------------+---------------+----+-------+--------------------+------------+\n",
      "|  id|            name|graduate_program| current_status|  id| degree|          department|      school|\n",
      "+----+----------------+----------------+---------------+----+-------+--------------------+------------+\n",
      "|   0|   Bill Chambers|               0|          [100]|   0|masters|school of informa...| UC Berkeley|\n",
      "|   1|   Matei Zaharia|               1|[500, 250, 100]|   1|masters|                  CS|Hanyang Univ|\n",
      "|   2|Michael Armbrust|               1|     [250, 100]|   1|masters|                  CS|Hanyang Univ|\n",
      "|   3|             kim|               3|          [100]|null|   null|                null|        null|\n",
      "|null|            null|            null|           null|   2|  Ph.D.|                  CS|Hanyang Univ|\n",
      "+----+----------------+----------------+---------------+----+-------+--------------------+------------+\n",
      "\n"
     ]
    }
   ],
   "source": [
    "person.join(graduateProgram, person[\"graduate_program\"] == graduateProgram[\"id\"], \"outer\").show()"
   ]
  },
  {
   "cell_type": "markdown",
   "metadata": {},
   "source": [
    "### outlier 보여주기 위해"
   ]
  },
  {
   "cell_type": "code",
   "execution_count": 18,
   "metadata": {},
   "outputs": [],
   "source": [
    "person = spark.createDataFrame([\n",
    "    (0, \"Bill Chambers\", 0, [100]),\n",
    "    (1, \"Matei Zaharia\", 1, [500, 250, 100]),\n",
    "    (2, \"Michael Armbrust\", 1, [250, 100]),\n",
    "    (3, \"Kim\", 3, [100])\n",
    "]).toDF(\"id\", \"name\", \"graduate_program\", \"current_status\")"
   ]
  },
  {
   "cell_type": "code",
   "execution_count": 19,
   "metadata": {},
   "outputs": [
    {
     "name": "stdout",
     "output_type": "stream",
     "text": [
      "+----+----------------+----------------+---------------+----+-------+--------------------+------------+\n",
      "|  id|            name|graduate_program| current_status|  id| degree|          department|      school|\n",
      "+----+----------------+----------------+---------------+----+-------+--------------------+------------+\n",
      "|   0|   Bill Chambers|               0|          [100]|   0|masters|school of informa...| UC Berkeley|\n",
      "|   1|   Matei Zaharia|               1|[500, 250, 100]|   1|masters|                  CS|Hanyang Univ|\n",
      "|   2|Michael Armbrust|               1|     [250, 100]|   1|masters|                  CS|Hanyang Univ|\n",
      "|   3|             Kim|               3|          [100]|null|   null|                null|        null|\n",
      "|null|            null|            null|           null|   2|  Ph.D.|                  CS|Hanyang Univ|\n",
      "+----+----------------+----------------+---------------+----+-------+--------------------+------------+\n",
      "\n"
     ]
    }
   ],
   "source": [
    "person.join(graduateProgram, person[\"graduate_program\"] == graduateProgram[\"id\"], \"outer\").show()"
   ]
  },
  {
   "cell_type": "code",
   "execution_count": 20,
   "metadata": {},
   "outputs": [
    {
     "name": "stdout",
     "output_type": "stream",
     "text": [
      "+---+----------------+-------+\n",
      "| id|            name| degree|\n",
      "+---+----------------+-------+\n",
      "|  0|   Bill Chambers|masters|\n",
      "|  1|   Matei Zaharia|masters|\n",
      "|  2|Michael Armbrust|masters|\n",
      "+---+----------------+-------+\n",
      "\n"
     ]
    }
   ],
   "source": [
    "# select \"id\" 중복되므로 특정 필요 person[\"id\"]\n",
    "person.join(graduateProgram, person[\"graduate_program\"] == graduateProgram[\"id\"], \"inner\").select(person[\"id\"], \"name\", \"degree\").show()"
   ]
  },
  {
   "cell_type": "code",
   "execution_count": 23,
   "metadata": {},
   "outputs": [
    {
     "name": "stdout",
     "output_type": "stream",
     "text": [
      "+---+----------------+-------+\n",
      "| id|            name| degree|\n",
      "+---+----------------+-------+\n",
      "|  0|   Bill Chambers|masters|\n",
      "|  1|   Matei Zaharia|masters|\n",
      "|  2|Michael Armbrust|masters|\n",
      "|  3|             Kim|   null|\n",
      "+---+----------------+-------+\n",
      "\n"
     ]
    }
   ],
   "source": [
    "# left_outer # left_join아님\n",
    "person\\\n",
    ".join(graduateProgram, person[\"graduate_program\"] == graduateProgram[\"id\"], \"left_outer\")\\\n",
    ".select(person[\"id\"], \"name\", \"degree\").show()"
   ]
  },
  {
   "cell_type": "code",
   "execution_count": null,
   "metadata": {},
   "outputs": [],
   "source": []
  }
 ],
 "metadata": {
  "kernelspec": {
   "display_name": "Python 3",
   "language": "python",
   "name": "python3"
  },
  "language_info": {
   "codemirror_mode": {
    "name": "ipython",
    "version": 3
   },
   "file_extension": ".py",
   "mimetype": "text/x-python",
   "name": "python",
   "nbconvert_exporter": "python",
   "pygments_lexer": "ipython3",
   "version": "3.6.9"
  }
 },
 "nbformat": 4,
 "nbformat_minor": 4
}
